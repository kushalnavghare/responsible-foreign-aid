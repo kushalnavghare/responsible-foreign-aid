{
 "cells": [
  {
   "cell_type": "code",
   "execution_count": 128,
   "id": "c208ff0a",
   "metadata": {
    "ExecuteTime": {
     "end_time": "2023-04-01T18:59:27.158901Z",
     "start_time": "2023-04-01T18:59:27.153790Z"
    }
   },
   "outputs": [],
   "source": [
    "import csv\n",
    "import snscrape.modules.twitter as sntwitter\n",
    "import itertools\n",
    "import pandas as pd\n",
    "import json"
   ]
  },
  {
   "cell_type": "code",
   "execution_count": 250,
   "id": "71e33b77",
   "metadata": {
    "ExecuteTime": {
     "end_time": "2023-04-01T19:40:37.244266Z",
     "start_time": "2023-04-01T19:40:37.238047Z"
    }
   },
   "outputs": [],
   "source": [
    "OUTPUT_FILE = \"../data/results.csv\""
   ]
  },
  {
   "cell_type": "code",
   "execution_count": 251,
   "id": "38f300c7",
   "metadata": {
    "ExecuteTime": {
     "end_time": "2023-04-01T19:40:37.932813Z",
     "start_time": "2023-04-01T19:40:37.922956Z"
    }
   },
   "outputs": [],
   "source": [
    "def save_tweets(query, n_tweets):\n",
    "    \"\"\"\n",
    "    Finds the latest tweets according to a query and saves them in a csv file\n",
    "    :param query: the query to look for\n",
    "    :param n_tweets: number of tweets to scrape\n",
    "    \"\"\"\n",
    "    with open(OUTPUT_FILE, 'w', encoding='utf-8', newline='') as file:\n",
    "        writer = csv.writer(file)\n",
    "        writer.writerow(['id', 'date', 'username', 'content', 'url'])\n",
    "        \n",
    "        tweets_gen = sntwitter.TwitterSearchScraper(query).get_items()\n",
    "        top_tweets = itertools.islice(tweets_gen, n_tweets)\n",
    "        \n",
    "        for tweet in top_tweets:\n",
    "            writer.writerow([tweet.id, tweet.date, tweet.username, tweet.content, tweet.url])\n",
    "        \n",
    "        print('Done!')"
   ]
  },
  {
   "cell_type": "code",
   "execution_count": 252,
   "id": "c188551d",
   "metadata": {
    "ExecuteTime": {
     "end_time": "2023-04-01T19:40:40.922576Z",
     "start_time": "2023-04-01T19:40:40.917641Z"
    }
   },
   "outputs": [],
   "source": [
    "query = \"#foreignaid\""
   ]
  },
  {
   "cell_type": "code",
   "execution_count": 253,
   "id": "0d679058",
   "metadata": {
    "ExecuteTime": {
     "end_time": "2023-04-01T19:40:43.252231Z",
     "start_time": "2023-04-01T19:40:41.667795Z"
    }
   },
   "outputs": [
    {
     "name": "stdout",
     "output_type": "stream",
     "text": [
      "Done!\n"
     ]
    },
    {
     "name": "stderr",
     "output_type": "stream",
     "text": [
      "/tmp/ipykernel_4694/2365005399.py:15: DeprecatedFeatureWarning: username is deprecated, use user.username instead\n",
      "  writer.writerow([tweet.id, tweet.date, tweet.username, tweet.content, tweet.url])\n",
      "/tmp/ipykernel_4694/2365005399.py:15: DeprecatedFeatureWarning: content is deprecated, use rawContent instead\n",
      "  writer.writerow([tweet.id, tweet.date, tweet.username, tweet.content, tweet.url])\n"
     ]
    }
   ],
   "source": [
    "save_tweets(query=query, n_tweets=10)"
   ]
  },
  {
   "cell_type": "code",
   "execution_count": 254,
   "id": "76dd82d3",
   "metadata": {
    "ExecuteTime": {
     "end_time": "2023-04-01T19:40:43.957477Z",
     "start_time": "2023-04-01T19:40:43.949867Z"
    }
   },
   "outputs": [],
   "source": [
    "tweets_gen = sntwitter.TwitterSearchScraper(query).get_items()"
   ]
  },
  {
   "cell_type": "code",
   "execution_count": 255,
   "id": "2757e57f",
   "metadata": {
    "ExecuteTime": {
     "end_time": "2023-04-01T19:40:45.368090Z",
     "start_time": "2023-04-01T19:40:45.360845Z"
    }
   },
   "outputs": [
    {
     "data": {
      "text/plain": [
       "snscrape.modules.twitter.Tweet"
      ]
     },
     "execution_count": 255,
     "metadata": {},
     "output_type": "execute_result"
    }
   ],
   "source": [
    "type(tweet)"
   ]
  },
  {
   "cell_type": "code",
   "execution_count": 257,
   "id": "cde3f11b",
   "metadata": {
    "ExecuteTime": {
     "end_time": "2023-04-01T19:44:41.827856Z",
     "start_time": "2023-04-01T19:44:41.820512Z"
    }
   },
   "outputs": [
    {
     "data": {
      "text/plain": [
       "[]"
      ]
     },
     "execution_count": 257,
     "metadata": {},
     "output_type": "execute_result"
    }
   ],
   "source": [
    "[tweet for tweet in tweets_gen]"
   ]
  },
  {
   "cell_type": "code",
   "execution_count": 258,
   "id": "6071be73",
   "metadata": {
    "ExecuteTime": {
     "end_time": "2023-04-01T19:44:45.165368Z",
     "start_time": "2023-04-01T19:44:45.157425Z"
    }
   },
   "outputs": [
    {
     "data": {
      "text/plain": [
       "Tweet(url='https://twitter.com/janelauppen/status/1414919392350064657', date=datetime.datetime(2021, 7, 13, 12, 7, 25, tzinfo=datetime.timezone.utc), rawContent=\"#foreignaid @BorisJohnson is a fan of population ctrl. what's more he lies like a trooper so 1000s will die cutting #OverseasAid UK always in debt so he spouts more bull by the day.@oxfamgb @ForeignPolicy @foreignaid @ForeignAidWorks @FCDOGovUK @CFR_org rt wing #austerity again\", renderedContent=\"#foreignaid @BorisJohnson is a fan of population ctrl. what's more he lies like a trooper so 1000s will die cutting #OverseasAid UK always in debt so he spouts more bull by the day.@oxfamgb @ForeignPolicy @foreignaid @ForeignAidWorks @FCDOGovUK @CFR_org rt wing #austerity again\", id=1414919392350064657, user=User(username='janelauppen', id=104773715, displayname='Jane', rawDescription='Cornwall. Campaigner for social justice,mental health,carers and human rights,austerity only exists to enrich the rich.', renderedDescription='Cornwall. Campaigner for social justice,mental health,carers and human rights,austerity only exists to enrich the rich.', descriptionLinks=None, verified=False, created=datetime.datetime(2010, 1, 14, 10, 28, 18, tzinfo=datetime.timezone.utc), followersCount=2072, friendsCount=4951, statusesCount=82189, favouritesCount=30795, listedCount=47, mediaCount=1882, location='', protected=False, link=None, profileImageUrl='https://pbs.twimg.com/profile_images/618848096433233920/3dCkm7vi_normal.png', profileBannerUrl='https://pbs.twimg.com/profile_banners/104773715/1361036535', label=None), replyCount=0, retweetCount=0, likeCount=0, quoteCount=0, conversationId=1414919392350064657, lang='en', source='<a href=\"http://twitter.com/download/android\" rel=\"nofollow\">Twitter for Android</a>', sourceUrl='http://twitter.com/download/android', sourceLabel='Twitter for Android', links=None, media=None, retweetedTweet=None, quotedTweet=None, inReplyToTweetId=None, inReplyToUser=None, mentionedUsers=[User(username='BorisJohnson', id=3131144855, displayname='Boris Johnson', rawDescription=None, renderedDescription=None, descriptionLinks=None, verified=None, created=None, followersCount=None, friendsCount=None, statusesCount=None, favouritesCount=None, listedCount=None, mediaCount=None, location=None, protected=None, link=None, profileImageUrl=None, profileBannerUrl=None, label=None), User(username='oxfamgb', id=15821039, displayname='Oxfam', rawDescription=None, renderedDescription=None, descriptionLinks=None, verified=None, created=None, followersCount=None, friendsCount=None, statusesCount=None, favouritesCount=None, listedCount=None, mediaCount=None, location=None, protected=None, link=None, profileImageUrl=None, profileBannerUrl=None, label=None), User(username='ForeignPolicy', id=26792275, displayname='Foreign Policy', rawDescription=None, renderedDescription=None, descriptionLinks=None, verified=None, created=None, followersCount=None, friendsCount=None, statusesCount=None, favouritesCount=None, listedCount=None, mediaCount=None, location=None, protected=None, link=None, profileImageUrl=None, profileBannerUrl=None, label=None), User(username='foreignaid', id=49110321, displayname='Foreign Aid', rawDescription=None, renderedDescription=None, descriptionLinks=None, verified=None, created=None, followersCount=None, friendsCount=None, statusesCount=None, favouritesCount=None, listedCount=None, mediaCount=None, location=None, protected=None, link=None, profileImageUrl=None, profileBannerUrl=None, label=None), User(username='ForeignAidWorks', id=3307431771, displayname='Foreign Aid Works', rawDescription=None, renderedDescription=None, descriptionLinks=None, verified=None, created=None, followersCount=None, friendsCount=None, statusesCount=None, favouritesCount=None, listedCount=None, mediaCount=None, location=None, protected=None, link=None, profileImageUrl=None, profileBannerUrl=None, label=None), User(username='FCDOGovUK', id=14353202, displayname='Foreign, Commonwealth & Development Office', rawDescription=None, renderedDescription=None, descriptionLinks=None, verified=None, created=None, followersCount=None, friendsCount=None, statusesCount=None, favouritesCount=None, listedCount=None, mediaCount=None, location=None, protected=None, link=None, profileImageUrl=None, profileBannerUrl=None, label=None), User(username='CFR_org', id=17469492, displayname='Council on Foreign Relations', rawDescription=None, renderedDescription=None, descriptionLinks=None, verified=None, created=None, followersCount=None, friendsCount=None, statusesCount=None, favouritesCount=None, listedCount=None, mediaCount=None, location=None, protected=None, link=None, profileImageUrl=None, profileBannerUrl=None, label=None)], coordinates=None, place=None, hashtags=['foreignaid', 'OverseasAid', 'austerity'], cashtags=None, card=None, viewCount=None, vibe=None)"
      ]
     },
     "execution_count": 258,
     "metadata": {},
     "output_type": "execute_result"
    }
   ],
   "source": [
    "tweet"
   ]
  },
  {
   "cell_type": "markdown",
   "id": "66c82ad8",
   "metadata": {},
   "source": [
    "## Advanced"
   ]
  },
  {
   "cell_type": "markdown",
   "id": "21d9214a",
   "metadata": {},
   "source": [
    "Advanced Search reference: https://github.com/igorbrigadir/twitter-advanced-search"
   ]
  },
  {
   "cell_type": "code",
   "execution_count": 195,
   "id": "6a52ba2e",
   "metadata": {
    "ExecuteTime": {
     "end_time": "2023-04-01T19:18:59.051027Z",
     "start_time": "2023-04-01T19:18:59.040999Z"
    }
   },
   "outputs": [],
   "source": [
    "def advancedTweetSearch(query, loc, start, end, lang=\"en\"):\n",
    "    TWEET_STOR = []\n",
    "    LOC_STOR = []\n",
    "    \n",
    "    scraped_tweets = sntwitter.TwitterSearchScraper(f'{query} geocode:\"{loc}\"since:{start} until:{end} lang:\"{lang}\"').get_items()\n",
    "    \n",
    "    sliced_scraped_tweets = itertools.islice(scraped_tweets, 1000)\n",
    "    \n",
    "    \n",
    "    for tweet in sliced_scraped_tweets:\n",
    "        try:\n",
    "            LOC_STOR.append(json.loads(tweet.json())['place']['country'])\n",
    "            TWEET_STOR.append(json.loads(tweet.json()))\n",
    "        except TypeError:\n",
    "            continue\n",
    "        \n",
    "    return TWEET_STOR, LOC_STOR"
   ]
  },
  {
   "cell_type": "code",
   "execution_count": 242,
   "id": "f71e15ba",
   "metadata": {
    "ExecuteTime": {
     "end_time": "2023-04-01T19:37:04.946411Z",
     "start_time": "2023-04-01T19:37:04.941282Z"
    }
   },
   "outputs": [],
   "source": [
    "query = \"#usaid OR #usforeignaid OR #foreignaid OR #foreignassistance OR #economy\"\n",
    "start = '2019-01-01'\n",
    "end = '2023-01-01'\n",
    "loc = \"2.723583, 113.159180, 3500km\""
   ]
  },
  {
   "cell_type": "code",
   "execution_count": 243,
   "id": "0e8d456b",
   "metadata": {
    "ExecuteTime": {
     "end_time": "2023-04-01T19:38:35.041487Z",
     "start_time": "2023-04-01T19:37:06.057282Z"
    }
   },
   "outputs": [
    {
     "name": "stdout",
     "output_type": "stream",
     "text": [
      "CPU times: user 2.24 s, sys: 14.7 ms, total: 2.25 s\n",
      "Wall time: 1min 28s\n"
     ]
    }
   ],
   "source": [
    "%time tweet_stor, location_details = advancedTweetSearch(query=query, start=start, end=end, loc=loc)"
   ]
  },
  {
   "cell_type": "code",
   "execution_count": 244,
   "id": "6c854bb8",
   "metadata": {
    "ExecuteTime": {
     "end_time": "2023-04-01T19:38:35.060783Z",
     "start_time": "2023-04-01T19:38:35.048475Z"
    }
   },
   "outputs": [
    {
     "data": {
      "text/plain": [
       "India                          656\n",
       "Bangladesh                     123\n",
       "Pakistan                        82\n",
       "Sri Lanka                       26\n",
       "Australia                        5\n",
       "Republic of the Philippines      3\n",
       "Nepal                            2\n",
       "People's Republic of China       2\n",
       "Maldives                         1\n",
       "Brunei                           1\n",
       "Bhutan                           1\n",
       "dtype: int64"
      ]
     },
     "execution_count": 244,
     "metadata": {},
     "output_type": "execute_result"
    }
   ],
   "source": [
    "pd.Series(location_details).value_counts()"
   ]
  },
  {
   "cell_type": "code",
   "execution_count": 245,
   "id": "daeebdb1",
   "metadata": {
    "ExecuteTime": {
     "end_time": "2023-04-01T19:38:35.083486Z",
     "start_time": "2023-04-01T19:38:35.064766Z"
    }
   },
   "outputs": [
    {
     "data": {
      "text/plain": [
       "{'_type': 'snscrape.modules.twitter.Tweet',\n",
       " 'url': 'https://twitter.com/IslamabadCCI/status/1609112072469504000',\n",
       " 'date': '2022-12-31T08:59:48+00:00',\n",
       " 'rawContent': 'Glimpses of visit of ICCI delegation to Navel Headquarter.\\n#ICCI @bakhtawarizafar @FaadWaheed #azharulislamzafar #Navy #economy #cooperation #betterment https://t.co/qJWN7IoAIF',\n",
       " 'renderedContent': 'Glimpses of visit of ICCI delegation to Navel Headquarter.\\n#ICCI @bakhtawarizafar @FaadWaheed #azharulislamzafar #Navy #economy #cooperation #betterment https://t.co/qJWN7IoAIF',\n",
       " 'id': 1609112072469504000,\n",
       " 'user': {'_type': 'snscrape.modules.twitter.User',\n",
       "  'username': 'IslamabadCCI',\n",
       "  'id': 230966713,\n",
       "  'displayname': 'Islamabad Chamber of Commerce & Industry',\n",
       "  'rawDescription': '',\n",
       "  'renderedDescription': '',\n",
       "  'descriptionLinks': None,\n",
       "  'verified': False,\n",
       "  'created': '2010-12-27T06:11:29+00:00',\n",
       "  'followersCount': 4291,\n",
       "  'friendsCount': 143,\n",
       "  'statusesCount': 2818,\n",
       "  'favouritesCount': 29,\n",
       "  'listedCount': 19,\n",
       "  'mediaCount': 1463,\n",
       "  'location': 'Islamabad, Pakistan',\n",
       "  'protected': False,\n",
       "  'link': {'_type': 'snscrape.modules.twitter.TextLink',\n",
       "   'text': 'icci.com.pk',\n",
       "   'url': 'http://www.icci.com.pk',\n",
       "   'tcourl': 'https://t.co/xhBn6jPkBN',\n",
       "   'indices': [0, 23]},\n",
       "  'profileImageUrl': 'https://pbs.twimg.com/profile_images/1308318569860673536/ImG9Atct_normal.jpg',\n",
       "  'profileBannerUrl': 'https://pbs.twimg.com/profile_banners/230966713/1671261686',\n",
       "  'label': None,\n",
       "  'description': '',\n",
       "  'descriptionUrls': None,\n",
       "  'linkTcourl': 'https://t.co/xhBn6jPkBN',\n",
       "  'linkUrl': 'http://www.icci.com.pk',\n",
       "  'url': 'https://twitter.com/IslamabadCCI'},\n",
       " 'replyCount': 1,\n",
       " 'retweetCount': 0,\n",
       " 'likeCount': 3,\n",
       " 'quoteCount': 0,\n",
       " 'conversationId': 1609112072469504000,\n",
       " 'lang': 'en',\n",
       " 'source': '<a href=\"http://twitter.com/download/android\" rel=\"nofollow\">Twitter for Android</a>',\n",
       " 'sourceUrl': 'http://twitter.com/download/android',\n",
       " 'sourceLabel': 'Twitter for Android',\n",
       " 'links': None,\n",
       " 'media': [{'_type': 'snscrape.modules.twitter.Video',\n",
       "   'thumbnailUrl': 'https://pbs.twimg.com/ext_tw_video_thumb/1609111896308736000/pu/img/zPBHim7FUl4mkycT.jpg',\n",
       "   'variants': [{'_type': 'snscrape.modules.twitter.VideoVariant',\n",
       "     'url': 'https://video.twimg.com/ext_tw_video/1609111896308736000/pu/pl/4psyPx_329gk21CB.m3u8?tag=12&container=fmp4',\n",
       "     'contentType': 'application/x-mpegURL',\n",
       "     'bitrate': None},\n",
       "    {'_type': 'snscrape.modules.twitter.VideoVariant',\n",
       "     'url': 'https://video.twimg.com/ext_tw_video/1609111896308736000/pu/vid/540x360/D2kwooSiJ1nNxQ8K.mp4?tag=12',\n",
       "     'contentType': 'video/mp4',\n",
       "     'bitrate': 832000},\n",
       "    {'_type': 'snscrape.modules.twitter.VideoVariant',\n",
       "     'url': 'https://video.twimg.com/ext_tw_video/1609111896308736000/pu/vid/1082x720/OnjXHl5_yW3OjYs0.mp4?tag=12',\n",
       "     'contentType': 'video/mp4',\n",
       "     'bitrate': 2176000},\n",
       "    {'_type': 'snscrape.modules.twitter.VideoVariant',\n",
       "     'url': 'https://video.twimg.com/ext_tw_video/1609111896308736000/pu/vid/404x270/QbEKDetE5aH2WC7r.mp4?tag=12',\n",
       "     'contentType': 'video/mp4',\n",
       "     'bitrate': 256000}],\n",
       "   'duration': 44.99,\n",
       "   'views': 27,\n",
       "   'altText': None}],\n",
       " 'retweetedTweet': None,\n",
       " 'quotedTweet': None,\n",
       " 'inReplyToTweetId': None,\n",
       " 'inReplyToUser': None,\n",
       " 'mentionedUsers': [{'_type': 'snscrape.modules.twitter.User',\n",
       "   'username': 'BakhtawariZafar',\n",
       "   'id': 1273554905589039104,\n",
       "   'displayname': 'Ahsan Zafar Bakhtawari',\n",
       "   'rawDescription': None,\n",
       "   'renderedDescription': None,\n",
       "   'descriptionLinks': None,\n",
       "   'verified': None,\n",
       "   'created': None,\n",
       "   'followersCount': None,\n",
       "   'friendsCount': None,\n",
       "   'statusesCount': None,\n",
       "   'favouritesCount': None,\n",
       "   'listedCount': None,\n",
       "   'mediaCount': None,\n",
       "   'location': None,\n",
       "   'protected': None,\n",
       "   'link': None,\n",
       "   'profileImageUrl': None,\n",
       "   'profileBannerUrl': None,\n",
       "   'label': None,\n",
       "   'description': None,\n",
       "   'descriptionUrls': None,\n",
       "   'linkTcourl': None,\n",
       "   'linkUrl': None,\n",
       "   'url': 'https://twitter.com/BakhtawariZafar'},\n",
       "  {'_type': 'snscrape.modules.twitter.User',\n",
       "   'username': 'FaadWaheed',\n",
       "   'id': 1730894364,\n",
       "   'displayname': 'Faad Waheed',\n",
       "   'rawDescription': None,\n",
       "   'renderedDescription': None,\n",
       "   'descriptionLinks': None,\n",
       "   'verified': None,\n",
       "   'created': None,\n",
       "   'followersCount': None,\n",
       "   'friendsCount': None,\n",
       "   'statusesCount': None,\n",
       "   'favouritesCount': None,\n",
       "   'listedCount': None,\n",
       "   'mediaCount': None,\n",
       "   'location': None,\n",
       "   'protected': None,\n",
       "   'link': None,\n",
       "   'profileImageUrl': None,\n",
       "   'profileBannerUrl': None,\n",
       "   'label': None,\n",
       "   'description': None,\n",
       "   'descriptionUrls': None,\n",
       "   'linkTcourl': None,\n",
       "   'linkUrl': None,\n",
       "   'url': 'https://twitter.com/FaadWaheed'}],\n",
       " 'coordinates': {'_type': 'snscrape.modules.twitter.Coordinates',\n",
       "  'longitude': 69.328873,\n",
       "  'latitude': 27.708226},\n",
       " 'place': {'_type': 'snscrape.modules.twitter.Place',\n",
       "  'id': '00cc0d5640394308',\n",
       "  'fullName': 'Punjab, Pakistan',\n",
       "  'name': 'Punjab',\n",
       "  'type': 'admin',\n",
       "  'country': 'Pakistan',\n",
       "  'countryCode': 'PK'},\n",
       " 'hashtags': ['ICCI',\n",
       "  'azharulislamzafar',\n",
       "  'Navy',\n",
       "  'economy',\n",
       "  'cooperation',\n",
       "  'betterment'],\n",
       " 'cashtags': None,\n",
       " 'card': None,\n",
       " 'viewCount': 99,\n",
       " 'vibe': None,\n",
       " 'content': 'Glimpses of visit of ICCI delegation to Navel Headquarter.\\n#ICCI @bakhtawarizafar @FaadWaheed #azharulislamzafar #Navy #economy #cooperation #betterment https://t.co/qJWN7IoAIF',\n",
       " 'outlinks': [],\n",
       " 'outlinksss': '',\n",
       " 'tcooutlinks': [],\n",
       " 'tcooutlinksss': '',\n",
       " 'username': 'IslamabadCCI'}"
      ]
     },
     "execution_count": 245,
     "metadata": {},
     "output_type": "execute_result"
    }
   ],
   "source": [
    "tweet_stor[0]"
   ]
  },
  {
   "cell_type": "code",
   "execution_count": 246,
   "id": "bdaefd2d",
   "metadata": {
    "ExecuteTime": {
     "end_time": "2023-04-01T19:38:35.093325Z",
     "start_time": "2023-04-01T19:38:35.089504Z"
    }
   },
   "outputs": [],
   "source": [
    "# brazil\n",
    "\n",
    "loc = \"-8.581021,-51.328125, 4500km\""
   ]
  },
  {
   "cell_type": "code",
   "execution_count": 247,
   "id": "93660726",
   "metadata": {
    "ExecuteTime": {
     "end_time": "2023-04-01T19:40:06.795307Z",
     "start_time": "2023-04-01T19:38:35.097040Z"
    }
   },
   "outputs": [
    {
     "name": "stdout",
     "output_type": "stream",
     "text": [
      "CPU times: user 2.74 s, sys: 15.4 ms, total: 2.75 s\n",
      "Wall time: 1min 31s\n"
     ]
    }
   ],
   "source": [
    "%time tweet_stor, location_details = advancedTweetSearch(query=query, start=start, end=end, loc=loc)"
   ]
  },
  {
   "cell_type": "code",
   "execution_count": 248,
   "id": "256c1272",
   "metadata": {
    "ExecuteTime": {
     "end_time": "2023-04-01T19:40:06.805403Z",
     "start_time": "2023-04-01T19:40:06.797391Z"
    }
   },
   "outputs": [
    {
     "data": {
      "text/plain": [
       "United States    834\n",
       "Ghana             87\n",
       "Mexico            11\n",
       "Senegal            6\n",
       "Brazil             6\n",
       "Liberia            3\n",
       "Fiji               3\n",
       "Guatemala          3\n",
       "Sierra Leone       3\n",
       "Spain              2\n",
       "Bahamas            2\n",
       "Ivory Coast        1\n",
       "Portugal           1\n",
       "Morocco            1\n",
       "dtype: int64"
      ]
     },
     "execution_count": 248,
     "metadata": {},
     "output_type": "execute_result"
    }
   ],
   "source": [
    "pd.Series(location_details).value_counts()"
   ]
  },
  {
   "cell_type": "code",
   "execution_count": 249,
   "id": "61336559",
   "metadata": {
    "ExecuteTime": {
     "end_time": "2023-04-01T19:40:06.851189Z",
     "start_time": "2023-04-01T19:40:06.808328Z"
    }
   },
   "outputs": [
    {
     "data": {
      "text/plain": [
       "{'_type': 'snscrape.modules.twitter.Tweet',\n",
       " 'url': 'https://twitter.com/DanielW247/status/1608990500891291649',\n",
       " 'date': '2022-12-31T00:56:43+00:00',\n",
       " 'rawContent': 'At some point we will all be millionaires as the dollar continues to inflate. 1 million in the 70s is worth 7 million now. 😳   #inflation #money #foodforthought #expenses #economy',\n",
       " 'renderedContent': 'At some point we will all be millionaires as the dollar continues to inflate. 1 million in the 70s is worth 7 million now. 😳   #inflation #money #foodforthought #expenses #economy',\n",
       " 'id': 1608990500891291649,\n",
       " 'user': {'_type': 'snscrape.modules.twitter.User',\n",
       "  'username': 'DanielW247',\n",
       "  'id': 1607988453173518337,\n",
       "  'displayname': 'Daniel Williams',\n",
       "  'rawDescription': 'Life is what you make it. Businessman, car enthusiast, coffee and cigars. 🤘',\n",
       "  'renderedDescription': 'Life is what you make it. Businessman, car enthusiast, coffee and cigars. 🤘',\n",
       "  'descriptionLinks': None,\n",
       "  'verified': False,\n",
       "  'created': '2022-12-28T06:35:10+00:00',\n",
       "  'followersCount': 2,\n",
       "  'friendsCount': 26,\n",
       "  'statusesCount': 33,\n",
       "  'favouritesCount': 34,\n",
       "  'listedCount': 0,\n",
       "  'mediaCount': 9,\n",
       "  'location': 'Jackson, MS',\n",
       "  'protected': False,\n",
       "  'link': None,\n",
       "  'profileImageUrl': 'https://pbs.twimg.com/profile_images/1610074384412147715/fw_kfEq4_normal.jpg',\n",
       "  'profileBannerUrl': 'https://pbs.twimg.com/profile_banners/1607988453173518337/1672429147',\n",
       "  'label': None,\n",
       "  'description': 'Life is what you make it. Businessman, car enthusiast, coffee and cigars. 🤘',\n",
       "  'descriptionUrls': None,\n",
       "  'linkTcourl': None,\n",
       "  'linkUrl': None,\n",
       "  'url': 'https://twitter.com/DanielW247'},\n",
       " 'replyCount': 0,\n",
       " 'retweetCount': 0,\n",
       " 'likeCount': 0,\n",
       " 'quoteCount': 0,\n",
       " 'conversationId': 1608990500891291649,\n",
       " 'lang': 'en',\n",
       " 'source': '<a href=\"http://twitter.com/download/iphone\" rel=\"nofollow\">Twitter for iPhone</a>',\n",
       " 'sourceUrl': 'http://twitter.com/download/iphone',\n",
       " 'sourceLabel': 'Twitter for iPhone',\n",
       " 'links': None,\n",
       " 'media': None,\n",
       " 'retweetedTweet': None,\n",
       " 'quotedTweet': None,\n",
       " 'inReplyToTweetId': None,\n",
       " 'inReplyToUser': None,\n",
       " 'mentionedUsers': None,\n",
       " 'coordinates': {'_type': 'snscrape.modules.twitter.Coordinates',\n",
       "  'longitude': -90.480251,\n",
       "  'latitude': 31.560031},\n",
       " 'place': {'_type': 'snscrape.modules.twitter.Place',\n",
       "  'id': '8702c4db19db6ac2',\n",
       "  'fullName': 'Brookhaven, MS',\n",
       "  'name': 'Brookhaven',\n",
       "  'type': 'city',\n",
       "  'country': 'United States',\n",
       "  'countryCode': 'US'},\n",
       " 'hashtags': ['inflation', 'money', 'foodforthought', 'expenses', 'economy'],\n",
       " 'cashtags': None,\n",
       " 'card': None,\n",
       " 'viewCount': 49,\n",
       " 'vibe': None,\n",
       " 'content': 'At some point we will all be millionaires as the dollar continues to inflate. 1 million in the 70s is worth 7 million now. 😳   #inflation #money #foodforthought #expenses #economy',\n",
       " 'outlinks': [],\n",
       " 'outlinksss': '',\n",
       " 'tcooutlinks': [],\n",
       " 'tcooutlinksss': '',\n",
       " 'username': 'DanielW247'}"
      ]
     },
     "execution_count": 249,
     "metadata": {},
     "output_type": "execute_result"
    }
   ],
   "source": [
    "tweet_stor[0]"
   ]
  }
 ],
 "metadata": {
  "kernelspec": {
   "display_name": "py3.8.13",
   "language": "python",
   "name": "py3.8"
  },
  "language_info": {
   "codemirror_mode": {
    "name": "ipython",
    "version": 3
   },
   "file_extension": ".py",
   "mimetype": "text/x-python",
   "name": "python",
   "nbconvert_exporter": "python",
   "pygments_lexer": "ipython3",
   "version": "3.8.13"
  }
 },
 "nbformat": 4,
 "nbformat_minor": 5
}
