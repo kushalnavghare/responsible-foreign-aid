{
 "cells": [
  {
   "cell_type": "code",
   "execution_count": 1,
   "id": "c208ff0a",
   "metadata": {
    "ExecuteTime": {
     "end_time": "2023-03-31T23:46:50.207547Z",
     "start_time": "2023-03-31T23:46:49.888419Z"
    }
   },
   "outputs": [],
   "source": [
    "import csv\n",
    "import snscrape.modules.twitter as sntwitter\n",
    "import itertools\n",
    "import pandas as pd"
   ]
  },
  {
   "cell_type": "code",
   "execution_count": 2,
   "id": "71e33b77",
   "metadata": {
    "ExecuteTime": {
     "end_time": "2023-03-31T23:47:12.107171Z",
     "start_time": "2023-03-31T23:47:12.102382Z"
    }
   },
   "outputs": [],
   "source": [
    "OUTPUT_FILE = \"../data/results.csv\""
   ]
  },
  {
   "cell_type": "code",
   "execution_count": 3,
   "id": "38f300c7",
   "metadata": {
    "ExecuteTime": {
     "end_time": "2023-03-31T23:47:13.707605Z",
     "start_time": "2023-03-31T23:47:13.697738Z"
    }
   },
   "outputs": [],
   "source": [
    "def save_tweets(query, n_tweets):\n",
    "    \"\"\"\n",
    "    Finds the latest tweets according to a query and saves them in a csv file\n",
    "    :param query: the query to look for\n",
    "    :param n_tweets: number of tweets to scrape\n",
    "    \"\"\"\n",
    "    with open(OUTPUT_FILE, 'w', encoding='utf-8', newline='') as file:\n",
    "        writer = csv.writer(file)\n",
    "        writer.writerow(['id', 'date', 'username', 'content', 'url'])\n",
    "        \n",
    "        tweets_gen = sntwitter.TwitterSearchScraper(query).get_items()\n",
    "        top_tweets = itertools.islice(tweets_gen, n_tweets)\n",
    "        \n",
    "        for tweet in top_tweets:\n",
    "            writer.writerow([tweet.id, tweet.date, tweet.username, tweet.content, tweet.url])\n",
    "        \n",
    "        print('Done!')"
   ]
  },
  {
   "cell_type": "code",
   "execution_count": 4,
   "id": "c188551d",
   "metadata": {
    "ExecuteTime": {
     "end_time": "2023-03-31T23:48:12.388040Z",
     "start_time": "2023-03-31T23:48:12.383777Z"
    }
   },
   "outputs": [],
   "source": [
    "query = \"#foreignaid\""
   ]
  },
  {
   "cell_type": "code",
   "execution_count": 5,
   "id": "0d679058",
   "metadata": {
    "ExecuteTime": {
     "end_time": "2023-03-31T23:48:19.925698Z",
     "start_time": "2023-03-31T23:48:18.392948Z"
    }
   },
   "outputs": [
    {
     "name": "stdout",
     "output_type": "stream",
     "text": [
      "Done!\n"
     ]
    },
    {
     "name": "stderr",
     "output_type": "stream",
     "text": [
      "/tmp/ipykernel_12578/2365005399.py:15: DeprecatedFeatureWarning: username is deprecated, use user.username instead\n",
      "  writer.writerow([tweet.id, tweet.date, tweet.username, tweet.content, tweet.url])\n",
      "/tmp/ipykernel_12578/2365005399.py:15: DeprecatedFeatureWarning: content is deprecated, use rawContent instead\n",
      "  writer.writerow([tweet.id, tweet.date, tweet.username, tweet.content, tweet.url])\n"
     ]
    }
   ],
   "source": [
    "save_tweets(query=query, n_tweets=10)"
   ]
  },
  {
   "cell_type": "code",
   "execution_count": 6,
   "id": "76dd82d3",
   "metadata": {
    "ExecuteTime": {
     "end_time": "2023-03-31T23:50:07.161014Z",
     "start_time": "2023-03-31T23:50:07.154687Z"
    }
   },
   "outputs": [],
   "source": [
    "tweets_gen = sntwitter.TwitterSearchScraper(query).get_items()"
   ]
  },
  {
   "cell_type": "code",
   "execution_count": 14,
   "id": "0cc65589",
   "metadata": {
    "ExecuteTime": {
     "end_time": "2023-03-31T23:51:49.513957Z",
     "start_time": "2023-03-31T23:51:49.506786Z"
    }
   },
   "outputs": [
    {
     "data": {
      "text/plain": [
       "Tweet(url='https://twitter.com/JosephV64384697/status/1627984198404300801', date=datetime.datetime(2023, 2, 21, 10, 50, 54, tzinfo=datetime.timezone.utc), rawContent='Exactly #ForeignAid #KickBacks @WitmerCarl Remember @JoeBiden Bragging “Your Not Getting The $1Billion With A “B” 💵 🤔 Imagine #BidenVP THEN #Obama #SusanRice Raking It In NOW #Reparations😐 @DOJCrimDiv @JusticeOIG MIA @USTreasury How Call Up “Give Me A Billion Cash @Jim_Jordan https://t.co/2jceqj7fUY', renderedContent='Exactly #ForeignAid #KickBacks @WitmerCarl Remember @JoeBiden Bragging “Your Not Getting The $1Billion With A “B” 💵 🤔 Imagine #BidenVP THEN #Obama #SusanRice Raking It In NOW #Reparations😐 @DOJCrimDiv @JusticeOIG MIA @USTreasury How Call Up “Give Me A Billion Cash @Jim_Jordan https://t.co/2jceqj7fUY', id=1627984198404300801, user=User(username='JosephV64384697', id=1192894362386124801, displayname='@JosephVincentPolsinello', rawDescription='Truth, Justice 🇺🇸Way🇺🇸God ✝️Jesus✡️🇺🇸MAGA SAA RT By DJT Honesty Integrity Character Civil Rights J V Polsinello Advocate TruthSocial = @JosephVPolsinello', renderedDescription='Truth, Justice 🇺🇸Way🇺🇸God ✝️Jesus✡️🇺🇸MAGA SAA RT By DJT Honesty Integrity Character Civil Rights J V Polsinello Advocate TruthSocial = @JosephVPolsinello', descriptionLinks=None, verified=False, created=datetime.datetime(2019, 11, 8, 20, 0, 12, tzinfo=datetime.timezone.utc), followersCount=3420, friendsCount=4977, statusesCount=60443, favouritesCount=55768, listedCount=4, mediaCount=17775, location='Boston, MA', protected=False, link=TextLink(text='inlandprofcorp.com', url='http://www.inlandprofcorp.com', tcourl='https://t.co/ztg3XVxIuH', indices=(0, 23)), profileImageUrl='https://pbs.twimg.com/profile_images/1192896720444837889/0lMREbJT_normal.jpg', profileBannerUrl='https://pbs.twimg.com/profile_banners/1192894362386124801/1573243963', label=None), replyCount=1, retweetCount=1, likeCount=2, quoteCount=1, conversationId=1627984198404300801, lang='en', source='<a href=\"http://twitter.com/download/iphone\" rel=\"nofollow\">Twitter for iPhone</a>', sourceUrl='http://twitter.com/download/iphone', sourceLabel='Twitter for iPhone', links=None, media=[Photo(previewUrl='https://pbs.twimg.com/media/FpfC_9cXgAAcqk-?format=jpg&name=small', fullUrl='https://pbs.twimg.com/media/FpfC_9cXgAAcqk-?format=jpg&name=orig', altText=None), Photo(previewUrl='https://pbs.twimg.com/media/FpfC_9eWcAAw73D?format=jpg&name=small', fullUrl='https://pbs.twimg.com/media/FpfC_9eWcAAw73D?format=jpg&name=orig', altText=None), Photo(previewUrl='https://pbs.twimg.com/media/FpfC_9dXEAACWrL?format=jpg&name=small', fullUrl='https://pbs.twimg.com/media/FpfC_9dXEAACWrL?format=jpg&name=orig', altText=None), Photo(previewUrl='https://pbs.twimg.com/media/FpfC_9bXsAAe_eV?format=jpg&name=small', fullUrl='https://pbs.twimg.com/media/FpfC_9bXsAAe_eV?format=jpg&name=orig', altText=None)], retweetedTweet=None, quotedTweet=Tweet(url='https://twitter.com/GioBruno1600/status/1627835990176931840', date=datetime.datetime(2023, 2, 21, 1, 1, 58, tzinfo=datetime.timezone.utc), rawContent='https://t.co/zp82Yjnqfw', renderedContent='https://t.co/zp82Yjnqfw', id=1627835990176931840, user=User(username='GioBruno1600', id=1433206393092325376, displayname='Giordano Bruno', rawDescription='🇺🇸Common Sense conservative #Patriot Family Faith Freedom #Trump #Tucker #Gutfeld #DeSantis #MTG #COwens #Reagan #Lincoln #GWashington #MLK🇺🇸 i❤️Gadgets📚🎬', renderedDescription='🇺🇸Common Sense conservative #Patriot Family Faith Freedom #Trump #Tucker #Gutfeld #DeSantis #MTG #COwens #Reagan #Lincoln #GWashington #MLK🇺🇸 i❤️Gadgets📚🎬', descriptionLinks=None, verified=False, created=datetime.datetime(2021, 9, 1, 23, 14, 27, tzinfo=datetime.timezone.utc), followersCount=69595, friendsCount=21471, statusesCount=21485, favouritesCount=226220, listedCount=101, mediaCount=5638, location='', protected=False, link=None, profileImageUrl='https://pbs.twimg.com/profile_images/1433211660878192640/97E8VYow_normal.jpg', profileBannerUrl='https://pbs.twimg.com/profile_banners/1433206393092325376/1680232196', label=None), replyCount=15, retweetCount=200, likeCount=567, quoteCount=11, conversationId=1627835990176931840, lang='zxx', source='<a href=\"http://twitter.com/download/iphone\" rel=\"nofollow\">Twitter for iPhone</a>', sourceUrl='http://twitter.com/download/iphone', sourceLabel='Twitter for iPhone', links=None, media=[Photo(previewUrl='https://pbs.twimg.com/media/Fpc8NEQXwAIUB1C?format=jpg&name=small', fullUrl='https://pbs.twimg.com/media/Fpc8NEQXwAIUB1C?format=jpg&name=orig', altText=None)], retweetedTweet=None, quotedTweet=None, inReplyToTweetId=None, inReplyToUser=None, mentionedUsers=None, coordinates=None, place=None, hashtags=None, cashtags=None, card=None, viewCount=6014, vibe=None), inReplyToTweetId=None, inReplyToUser=None, mentionedUsers=[User(username='WitmerCarl', id=3430693192, displayname='Carl Witmer', rawDescription=None, renderedDescription=None, descriptionLinks=None, verified=None, created=None, followersCount=None, friendsCount=None, statusesCount=None, favouritesCount=None, listedCount=None, mediaCount=None, location=None, protected=None, link=None, profileImageUrl=None, profileBannerUrl=None, label=None), User(username='JoeBiden', id=939091, displayname='Joe Biden', rawDescription=None, renderedDescription=None, descriptionLinks=None, verified=None, created=None, followersCount=None, friendsCount=None, statusesCount=None, favouritesCount=None, listedCount=None, mediaCount=None, location=None, protected=None, link=None, profileImageUrl=None, profileBannerUrl=None, label=None), User(username='DOJCrimDiv', id=1438217502413271042, displayname='Criminal Division', rawDescription=None, renderedDescription=None, descriptionLinks=None, verified=None, created=None, followersCount=None, friendsCount=None, statusesCount=None, favouritesCount=None, listedCount=None, mediaCount=None, location=None, protected=None, link=None, profileImageUrl=None, profileBannerUrl=None, label=None), User(username='JusticeOIG', id=515846981, displayname='DOJ Inspector General', rawDescription=None, renderedDescription=None, descriptionLinks=None, verified=None, created=None, followersCount=None, friendsCount=None, statusesCount=None, favouritesCount=None, listedCount=None, mediaCount=None, location=None, protected=None, link=None, profileImageUrl=None, profileBannerUrl=None, label=None), User(username='USTreasury', id=120176950, displayname='Treasury Department', rawDescription=None, renderedDescription=None, descriptionLinks=None, verified=None, created=None, followersCount=None, friendsCount=None, statusesCount=None, favouritesCount=None, listedCount=None, mediaCount=None, location=None, protected=None, link=None, profileImageUrl=None, profileBannerUrl=None, label=None), User(username='Jim_Jordan', id=18166778, displayname='Rep. Jim Jordan', rawDescription=None, renderedDescription=None, descriptionLinks=None, verified=None, created=None, followersCount=None, friendsCount=None, statusesCount=None, favouritesCount=None, listedCount=None, mediaCount=None, location=None, protected=None, link=None, profileImageUrl=None, profileBannerUrl=None, label=None)], coordinates=Coordinates(longitude=-73.508143, latitude=41.187054), place=Place(id='cd450c94084cbf9b', fullName='Massachusetts, USA', name='Massachusetts', type='admin', country='United States', countryCode='US'), hashtags=['ForeignAid', 'KickBacks', 'BidenVP', 'Obama', 'SusanRice', 'Reparations'], cashtags=None, card=None, viewCount=165, vibe=None)"
      ]
     },
     "execution_count": 14,
     "metadata": {},
     "output_type": "execute_result"
    }
   ],
   "source": [
    "tweet"
   ]
  },
  {
   "cell_type": "code",
   "execution_count": 16,
   "id": "2757e57f",
   "metadata": {
    "ExecuteTime": {
     "end_time": "2023-03-31T23:58:43.339405Z",
     "start_time": "2023-03-31T23:58:43.331634Z"
    }
   },
   "outputs": [
    {
     "data": {
      "text/plain": [
       "snscrape.modules.twitter.Tweet"
      ]
     },
     "execution_count": 16,
     "metadata": {},
     "output_type": "execute_result"
    }
   ],
   "source": [
    "type(tweet)"
   ]
  },
  {
   "cell_type": "code",
   "execution_count": 9,
   "id": "6071be73",
   "metadata": {
    "ExecuteTime": {
     "end_time": "2023-03-31T23:50:51.910998Z",
     "start_time": "2023-03-31T23:50:41.629730Z"
    }
   },
   "outputs": [
    {
     "name": "stdout",
     "output_type": "stream",
     "text": [
      "https://twitter.com/LowrieJohn/status/1641764189780971520\n",
      "https://twitter.com/RobNicholls15/status/1641702559873134593\n",
      "https://twitter.com/NTDNews/status/1641539545282801672\n",
      "https://twitter.com/mcbrams/status/1641453081895534592\n",
      "https://twitter.com/MiguelNinoZ/status/1641446883964112896\n",
      "https://twitter.com/devex/status/1641184487475216385\n",
      "https://twitter.com/DrJPPham/status/1641135426227380229\n",
      "https://twitter.com/LineageFirst/status/1641131285035859969\n",
      "https://twitter.com/geopsychiatry/status/1641114215627866116\n",
      "https://twitter.com/TweetyThings1/status/1641094247670767616\n",
      "https://twitter.com/hfp91/status/1641005050867621888\n",
      "https://twitter.com/SaraHirschhorn1/status/1640840619617579009\n",
      "https://twitter.com/tbsnewsdotnet/status/1640639911715028992\n",
      "https://twitter.com/Cornishview/status/1640635490729697281\n",
      "https://twitter.com/InsightMasero/status/1640607312720150528\n",
      "https://twitter.com/tbsnewsdotnet/status/1640601900432371713\n",
      "https://twitter.com/DrJaneGill1/status/1640520077035417604\n",
      "https://twitter.com/aheartforafrica/status/1640508754339803137\n",
      "https://twitter.com/QuatroInc/status/1640473831134330881\n",
      "https://twitter.com/thepakistan2021/status/1640321195651284992\n",
      "https://twitter.com/TweetyThings1/status/1640168620818046976\n",
      "https://twitter.com/haaohaoo/status/1640158049435361280\n",
      "https://twitter.com/tbsnewsdotnet/status/1639907565898444800\n",
      "https://twitter.com/OttavioMCMLXI/status/1639874868484399104\n",
      "https://twitter.com/teampolstrat/status/1639628207648276482\n",
      "https://twitter.com/QuatroInc/status/1639208962812952577\n",
      "https://twitter.com/jaynees64/status/1638972371288616984\n",
      "https://twitter.com/_Pramish_Grg/status/1638960616885874690\n",
      "https://twitter.com/_Pramish_Grg/status/1638959542305439745\n",
      "https://twitter.com/A419pirate/status/1637969563076935682\n",
      "https://twitter.com/Ghost46226/status/1637805796884103168\n",
      "https://twitter.com/LizConti3/status/1637639905470709762\n",
      "https://twitter.com/ePluribusUSA/status/1637557058160476164\n",
      "https://twitter.com/TJ_Shadwell/status/1637527526472929280\n",
      "https://twitter.com/Cornishview/status/1637357100983615488\n",
      "https://twitter.com/jallen1947/status/1637051256668577792\n",
      "https://twitter.com/LowrieJohn/status/1636878346712760320\n",
      "https://twitter.com/kppotatoes/status/1636833365050499073\n",
      "https://twitter.com/i_danforth/status/1636797826968743941\n",
      "https://twitter.com/geopsychiatry/status/1636776128177373187\n",
      "https://twitter.com/aliceiannntn/status/1636764369613893633\n",
      "https://twitter.com/RobertoDNavarro/status/1636749123222118400\n",
      "https://twitter.com/CRSnews/status/1636745717816475652\n",
      "https://twitter.com/CatholicRelief/status/1636714811881816066\n",
      "https://twitter.com/BarbaraWinner2/status/1636479051878596611\n",
      "https://twitter.com/ReligionMag/status/1636366716513951744\n",
      "https://twitter.com/_Pramish_Grg/status/1636341569866399746\n",
      "https://twitter.com/GLRPostColonial/status/1636308500866318336\n",
      "https://twitter.com/LowrieJohn/status/1636215629740134401\n",
      "https://twitter.com/LowrieJohn/status/1636207751234994176\n",
      "https://twitter.com/Lenghtymeatpup1/status/1636181335734902785\n",
      "https://twitter.com/1stforPhoto/status/1635984837415784448\n",
      "https://twitter.com/Eyesiswatching1/status/1635983469854507008\n",
      "https://twitter.com/LowrieJohn/status/1635890156589703168\n",
      "https://twitter.com/alixg1/status/1635759789044121600\n",
      "https://twitter.com/Johnbarney504/status/1635716294786809887\n",
      "https://twitter.com/DiplomacyNWK/status/1635583780499906562\n",
      "https://twitter.com/pressxpresspx/status/1635566436377665538\n",
      "https://twitter.com/Need2KnowDotCom/status/1635555153901232128\n",
      "https://twitter.com/Outspok03350812/status/1635550167527981057\n",
      "https://twitter.com/LowrieJohn/status/1635484987641192448\n",
      "https://twitter.com/NTDNews/status/1635420475286339586\n",
      "https://twitter.com/JosephV64384697/status/1635252539003396096\n",
      "https://twitter.com/DiplomacyNWK/status/1635239462727987200\n",
      "https://twitter.com/Quinlan32032003/status/1635206054064603136\n",
      "https://twitter.com/HTTNewsAgency/status/1635111441484386304\n",
      "https://twitter.com/DifangAko/status/1634986258165542913\n",
      "https://twitter.com/TinaTruth101/status/1634843248643678209\n",
      "https://twitter.com/germanbini/status/1634675376554115074\n",
      "https://twitter.com/OmarShakti/status/1634659244095012864\n",
      "https://twitter.com/webberwit/status/1634429378540220416\n",
      "https://twitter.com/Gr8DepHenry/status/1634278878989504518\n",
      "https://twitter.com/Hunter_KTaylor/status/1634242891420712992\n",
      "https://twitter.com/ThomasVitins/status/1634220839309647873\n",
      "https://twitter.com/jschiefg/status/1634170555480915968\n",
      "https://twitter.com/Ghost46226/status/1633988315400773633\n",
      "https://twitter.com/oren14/status/1633956969810890752\n",
      "https://twitter.com/CatholicRelief/status/1633936207246680064\n",
      "https://twitter.com/ALLPatriotRebel/status/1633635564439191553\n",
      "https://twitter.com/aacrecelius/status/1633539176363614210\n",
      "https://twitter.com/rigavitch/status/1633511656021008386\n",
      "https://twitter.com/deb2107/status/1633368504593154049\n",
      "https://twitter.com/BrexiteerScouse/status/1633368404886188032\n",
      "https://twitter.com/ASB_GE/status/1633363508661301249\n",
      "https://twitter.com/3snurse/status/1633147478374510608\n",
      "https://twitter.com/Doradiaga/status/1633123131635253249\n",
      "https://twitter.com/LowrieJohn/status/1633032410152554496\n",
      "https://twitter.com/ColleenDockerty/status/1632893643387281408\n",
      "https://twitter.com/MenesesRudy/status/1632050826389643264\n",
      "https://twitter.com/judymorris3/status/1632021363077574657\n",
      "https://twitter.com/khhollings/status/1631980105814663168\n",
      "https://twitter.com/EasternEye/status/1631940578752757761\n",
      "https://twitter.com/TrueNorthUSA/status/1631853886813229057\n",
      "https://twitter.com/visionorg/status/1631769923398639616\n",
      "https://twitter.com/donhornsby/status/1631761550116790272\n",
      "https://twitter.com/DeborahDupre/status/1631615241808379904\n",
      "https://twitter.com/LowrieJohn/status/1631542857294135296\n",
      "https://twitter.com/ttenchantr/status/1631529719542759424\n",
      "https://twitter.com/TweetyThings1/status/1631424714743898115\n",
      "https://twitter.com/JDEadonWriter/status/1631379908218765314\n",
      "https://twitter.com/billpigg/status/1631279966468861955\n",
      "https://twitter.com/TweetyThings1/status/1631197488526020608\n",
      "https://twitter.com/LDohlen/status/1631148009315794944\n",
      "https://twitter.com/LowrieJohn/status/1631142870835945473\n",
      "https://twitter.com/3snurse/status/1631135438143455233\n",
      "https://twitter.com/LowrieJohn/status/1631131072816717825\n",
      "https://twitter.com/Blockchain420il/status/1631027878031765504\n",
      "https://twitter.com/RobBC420/status/1631027420672282624\n",
      "https://twitter.com/theblackhobbitt/status/1631027074826747906\n",
      "https://twitter.com/skepticynic1/status/1630960507631857667\n",
      "https://twitter.com/skepticynic1/status/1630959190998147072\n",
      "https://twitter.com/deldeyoch/status/1630953865007845378\n",
      "https://twitter.com/Akajiebubechukw/status/1630946038289760257\n",
      "https://twitter.com/kppotatoes/status/1630944896038174724\n",
      "https://twitter.com/UkohaGrace/status/1630860324973813760\n",
      "https://twitter.com/NewsDayZimbabwe/status/1630839325809057795\n",
      "https://twitter.com/ObaidaShammama/status/1630732014616813570\n",
      "https://twitter.com/xnyra_z/status/1630697581931032577\n",
      "https://twitter.com/RobBC420/status/1630689826059026432\n",
      "https://twitter.com/theblackhobbitt/status/1630689475842940931\n",
      "https://twitter.com/Blockchain420il/status/1630689368317755392\n",
      "https://twitter.com/rgranke/status/1630631421189685248\n",
      "https://twitter.com/SidRamone1/status/1630605486453145613\n",
      "https://twitter.com/SidRamone1/status/1630602616899076096\n",
      "https://twitter.com/ALLPatriotRebel/status/1630599178899390470\n",
      "https://twitter.com/crittersweb/status/1630598961445629952\n",
      "https://twitter.com/Ghost46226/status/1630595384346312704\n",
      "https://twitter.com/USAGENT19/status/1630549214076846080\n",
      "https://twitter.com/Nocturne_dragon/status/1630502213448769536\n",
      "https://twitter.com/Nocturne_dragon/status/1630499899996520454\n",
      "https://twitter.com/hehatehogan/status/1630414024948035585\n",
      "https://twitter.com/AlphaLink_Prime/status/1630393966142078977\n",
      "https://twitter.com/AlphaLink_Prime/status/1630393963927535618\n",
      "https://twitter.com/AlphaLink_Prime/status/1630393957002690560\n",
      "https://twitter.com/SvenningDalgard/status/1630389147947999232\n",
      "https://twitter.com/mary_swilling/status/1630370331658539010\n",
      "https://twitter.com/KTildes/status/1630369971451691013\n",
      "https://twitter.com/AdAstra24/status/1630359678319472640\n",
      "https://twitter.com/brunoborgenproj/status/1630283387658174471\n",
      "https://twitter.com/CahoonMicheal/status/1630260949214199808\n",
      "https://twitter.com/gwpro/status/1630206344312520706\n",
      "https://twitter.com/SueH731/status/1630203182524637185\n"
     ]
    },
    {
     "name": "stdout",
     "output_type": "stream",
     "text": [
      "https://twitter.com/sylvandebate/status/1630165348187078658\n",
      "https://twitter.com/rebeccaanne3/status/1629992977539137540\n",
      "https://twitter.com/blaenauffestnew/status/1629992016372178947\n",
      "https://twitter.com/ChangeLabHQ/status/1629958455191654402\n",
      "https://twitter.com/adrenalinaddict/status/1629890017957953536\n",
      "https://twitter.com/mpostdigital/status/1629835349856796674\n",
      "https://twitter.com/adrenalinaddict/status/1629827017087627266\n",
      "https://twitter.com/ThomasVitins/status/1629798009067167748\n",
      "https://twitter.com/marketsday/status/1629761097929740289\n",
      "https://twitter.com/JagbaniOnline/status/1629759044343980032\n",
      "https://twitter.com/MUSICYRICS/status/1629755560848678913\n",
      "https://twitter.com/business_today/status/1629735732930834432\n",
      "https://twitter.com/theducationwire/status/1629685697018748929\n",
      "https://twitter.com/MarkRubleyHome/status/1629684790487289856\n",
      "https://twitter.com/SconnieTek/status/1629636006046584835\n",
      "https://twitter.com/Tom_Fiedler/status/1629603597993517059\n",
      "https://twitter.com/rebeccaanne3/status/1629522870933262337\n",
      "https://twitter.com/AvgAmerVoter/status/1629501826281390081\n",
      "https://twitter.com/Mines_a_pint/status/1629493728657195008\n",
      "https://twitter.com/mathewjmari/status/1629306090373390337\n",
      "https://twitter.com/BerrieNe/status/1629129717675876353\n",
      "https://twitter.com/Ghost46226/status/1629013674106179584\n",
      "https://twitter.com/ColleenDockerty/status/1628944690887401472\n",
      "https://twitter.com/Ghost46226/status/1628891553724006400\n",
      "https://twitter.com/PiotrGoldstein/status/1628761328016932864\n",
      "https://twitter.com/LowrieJohn/status/1628597044863733760\n",
      "https://twitter.com/bosoxfan8830/status/1628505424495345670\n",
      "https://twitter.com/LayeMicheals/status/1628437194154078209\n",
      "https://twitter.com/verityfigament/status/1628412261273313280\n",
      "https://twitter.com/BlacTec_/status/1628344532096978944\n",
      "https://twitter.com/LowrieJohn/status/1628297137720270849\n",
      "https://twitter.com/dailyfocus_ngr/status/1628296499485442048\n",
      "https://twitter.com/ZackBates/status/1628231830058205184\n",
      "https://twitter.com/LowrieJohn/status/1628202810222452737\n",
      "https://twitter.com/Daisy33578/status/1628202667402055680\n",
      "https://twitter.com/Ghost46226/status/1628123737743839232\n",
      "https://twitter.com/Ghost46226/status/1628114659600633856\n",
      "https://twitter.com/Ghost46226/status/1628110912883400704\n",
      "https://twitter.com/JosephV64384697/status/1627984198404300801\n"
     ]
    },
    {
     "ename": "KeyboardInterrupt",
     "evalue": "",
     "output_type": "error",
     "traceback": [
      "\u001b[0;31m---------------------------------------------------------------------------\u001b[0m",
      "\u001b[0;31mKeyboardInterrupt\u001b[0m                         Traceback (most recent call last)",
      "Input \u001b[0;32mIn [9]\u001b[0m, in \u001b[0;36m<cell line: 1>\u001b[0;34m()\u001b[0m\n\u001b[0;32m----> 1\u001b[0m \u001b[38;5;28;01mfor\u001b[39;00m tweet \u001b[38;5;129;01min\u001b[39;00m tweets_gen:\n\u001b[1;32m      2\u001b[0m     \u001b[38;5;28mprint\u001b[39m(tweet)\n",
      "File \u001b[0;32m~/miniconda3/envs/py3.8/lib/python3.8/site-packages/snscrape/modules/twitter.py:1661\u001b[0m, in \u001b[0;36mTwitterSearchScraper.get_items\u001b[0;34m(self)\u001b[0m\n\u001b[1;32m   1658\u001b[0m params \u001b[38;5;241m=\u001b[39m paginationParams\u001b[38;5;241m.\u001b[39mcopy()\n\u001b[1;32m   1659\u001b[0m \u001b[38;5;28;01mdel\u001b[39;00m params[\u001b[38;5;124m'\u001b[39m\u001b[38;5;124mcursor\u001b[39m\u001b[38;5;124m'\u001b[39m]\n\u001b[0;32m-> 1661\u001b[0m \u001b[38;5;28;01mfor\u001b[39;00m obj \u001b[38;5;129;01min\u001b[39;00m \u001b[38;5;28mself\u001b[39m\u001b[38;5;241m.\u001b[39m_iter_api_data(\u001b[38;5;124m'\u001b[39m\u001b[38;5;124mhttps://api.twitter.com/2/search/adaptive.json\u001b[39m\u001b[38;5;124m'\u001b[39m, _TwitterAPIType\u001b[38;5;241m.\u001b[39mV2, params, paginationParams, cursor \u001b[38;5;241m=\u001b[39m \u001b[38;5;28mself\u001b[39m\u001b[38;5;241m.\u001b[39m_cursor):\n\u001b[1;32m   1662\u001b[0m \t\u001b[38;5;28;01myield from\u001b[39;00m \u001b[38;5;28mself\u001b[39m\u001b[38;5;241m.\u001b[39m_v2_timeline_instructions_to_tweets_or_users(obj)\n",
      "File \u001b[0;32m~/miniconda3/envs/py3.8/lib/python3.8/site-packages/snscrape/modules/twitter.py:761\u001b[0m, in \u001b[0;36m_TwitterAPIScraper._iter_api_data\u001b[0;34m(self, endpoint, apiType, params, paginationParams, cursor, direction)\u001b[0m\n\u001b[1;32m    759\u001b[0m \u001b[38;5;28;01mwhile\u001b[39;00m \u001b[38;5;28;01mTrue\u001b[39;00m:\n\u001b[1;32m    760\u001b[0m \t_logger\u001b[38;5;241m.\u001b[39minfo(\u001b[38;5;124mf\u001b[39m\u001b[38;5;124m'\u001b[39m\u001b[38;5;124mRetrieving scroll page \u001b[39m\u001b[38;5;132;01m{\u001b[39;00mcursor\u001b[38;5;132;01m}\u001b[39;00m\u001b[38;5;124m'\u001b[39m)\n\u001b[0;32m--> 761\u001b[0m \tobj \u001b[38;5;241m=\u001b[39m \u001b[38;5;28;43mself\u001b[39;49m\u001b[38;5;241;43m.\u001b[39;49m\u001b[43m_get_api_data\u001b[49m\u001b[43m(\u001b[49m\u001b[43mendpoint\u001b[49m\u001b[43m,\u001b[49m\u001b[43m \u001b[49m\u001b[43mapiType\u001b[49m\u001b[43m,\u001b[49m\u001b[43m \u001b[49m\u001b[43mreqParams\u001b[49m\u001b[43m)\u001b[49m\n\u001b[1;32m    762\u001b[0m \t\u001b[38;5;28;01myield\u001b[39;00m obj\n\u001b[1;32m    764\u001b[0m \t\u001b[38;5;66;03m# No data format test, just a hard and loud crash if anything's wrong :-)\u001b[39;00m\n",
      "File \u001b[0;32m~/miniconda3/envs/py3.8/lib/python3.8/site-packages/snscrape/modules/twitter.py:727\u001b[0m, in \u001b[0;36m_TwitterAPIScraper._get_api_data\u001b[0;34m(self, endpoint, apiType, params)\u001b[0m\n\u001b[1;32m    725\u001b[0m \u001b[38;5;28;01mif\u001b[39;00m apiType \u001b[38;5;129;01mis\u001b[39;00m _TwitterAPIType\u001b[38;5;241m.\u001b[39mGRAPHQL:\n\u001b[1;32m    726\u001b[0m \tparams \u001b[38;5;241m=\u001b[39m urllib\u001b[38;5;241m.\u001b[39mparse\u001b[38;5;241m.\u001b[39murlencode({k: json\u001b[38;5;241m.\u001b[39mdumps(v, separators \u001b[38;5;241m=\u001b[39m (\u001b[38;5;124m'\u001b[39m\u001b[38;5;124m,\u001b[39m\u001b[38;5;124m'\u001b[39m, \u001b[38;5;124m'\u001b[39m\u001b[38;5;124m:\u001b[39m\u001b[38;5;124m'\u001b[39m)) \u001b[38;5;28;01mfor\u001b[39;00m k, v \u001b[38;5;129;01min\u001b[39;00m params\u001b[38;5;241m.\u001b[39mitems()}, quote_via \u001b[38;5;241m=\u001b[39m urllib\u001b[38;5;241m.\u001b[39mparse\u001b[38;5;241m.\u001b[39mquote)\n\u001b[0;32m--> 727\u001b[0m r \u001b[38;5;241m=\u001b[39m \u001b[38;5;28;43mself\u001b[39;49m\u001b[38;5;241;43m.\u001b[39;49m\u001b[43m_get\u001b[49m\u001b[43m(\u001b[49m\u001b[43mendpoint\u001b[49m\u001b[43m,\u001b[49m\u001b[43m \u001b[49m\u001b[43mparams\u001b[49m\u001b[43m \u001b[49m\u001b[38;5;241;43m=\u001b[39;49m\u001b[43m \u001b[49m\u001b[43mparams\u001b[49m\u001b[43m,\u001b[49m\u001b[43m \u001b[49m\u001b[43mheaders\u001b[49m\u001b[43m \u001b[49m\u001b[38;5;241;43m=\u001b[39;49m\u001b[43m \u001b[49m\u001b[38;5;28;43mself\u001b[39;49m\u001b[38;5;241;43m.\u001b[39;49m\u001b[43m_apiHeaders\u001b[49m\u001b[43m,\u001b[49m\u001b[43m \u001b[49m\u001b[43mresponseOkCallback\u001b[49m\u001b[43m \u001b[49m\u001b[38;5;241;43m=\u001b[39;49m\u001b[43m \u001b[49m\u001b[38;5;28;43mself\u001b[39;49m\u001b[38;5;241;43m.\u001b[39;49m\u001b[43m_check_api_response\u001b[49m\u001b[43m)\u001b[49m\n\u001b[1;32m    728\u001b[0m \u001b[38;5;28;01mtry\u001b[39;00m:\n\u001b[1;32m    729\u001b[0m \tobj \u001b[38;5;241m=\u001b[39m r\u001b[38;5;241m.\u001b[39mjson()\n",
      "File \u001b[0;32m~/miniconda3/envs/py3.8/lib/python3.8/site-packages/snscrape/base.py:251\u001b[0m, in \u001b[0;36mScraper._get\u001b[0;34m(self, *args, **kwargs)\u001b[0m\n\u001b[1;32m    250\u001b[0m \u001b[38;5;28;01mdef\u001b[39;00m \u001b[38;5;21m_get\u001b[39m(\u001b[38;5;28mself\u001b[39m, \u001b[38;5;241m*\u001b[39margs, \u001b[38;5;241m*\u001b[39m\u001b[38;5;241m*\u001b[39mkwargs):\n\u001b[0;32m--> 251\u001b[0m \t\u001b[38;5;28;01mreturn\u001b[39;00m \u001b[38;5;28;43mself\u001b[39;49m\u001b[38;5;241;43m.\u001b[39;49m\u001b[43m_request\u001b[49m\u001b[43m(\u001b[49m\u001b[38;5;124;43m'\u001b[39;49m\u001b[38;5;124;43mGET\u001b[39;49m\u001b[38;5;124;43m'\u001b[39;49m\u001b[43m,\u001b[49m\u001b[43m \u001b[49m\u001b[38;5;241;43m*\u001b[39;49m\u001b[43margs\u001b[49m\u001b[43m,\u001b[49m\u001b[43m \u001b[49m\u001b[38;5;241;43m*\u001b[39;49m\u001b[38;5;241;43m*\u001b[39;49m\u001b[43mkwargs\u001b[49m\u001b[43m)\u001b[49m\n",
      "File \u001b[0;32m~/miniconda3/envs/py3.8/lib/python3.8/site-packages/snscrape/base.py:203\u001b[0m, in \u001b[0;36mScraper._request\u001b[0;34m(self, method, url, params, data, headers, timeout, responseOkCallback, allowRedirects, proxies)\u001b[0m\n\u001b[1;32m    201\u001b[0m \t_logger\u001b[38;5;241m.\u001b[39mdebug(\u001b[38;5;124mf\u001b[39m\u001b[38;5;124m'\u001b[39m\u001b[38;5;124m... with environmentSettings: \u001b[39m\u001b[38;5;132;01m{\u001b[39;00menvironmentSettings\u001b[38;5;132;01m!r}\u001b[39;00m\u001b[38;5;124m'\u001b[39m)\n\u001b[1;32m    202\u001b[0m \u001b[38;5;28;01mtry\u001b[39;00m:\n\u001b[0;32m--> 203\u001b[0m \tr \u001b[38;5;241m=\u001b[39m \u001b[38;5;28;43mself\u001b[39;49m\u001b[38;5;241;43m.\u001b[39;49m\u001b[43m_session\u001b[49m\u001b[38;5;241;43m.\u001b[39;49m\u001b[43msend\u001b[49m\u001b[43m(\u001b[49m\u001b[43mreq\u001b[49m\u001b[43m,\u001b[49m\u001b[43m \u001b[49m\u001b[43mallow_redirects\u001b[49m\u001b[43m \u001b[49m\u001b[38;5;241;43m=\u001b[39;49m\u001b[43m \u001b[49m\u001b[43mallowRedirects\u001b[49m\u001b[43m,\u001b[49m\u001b[43m \u001b[49m\u001b[43mtimeout\u001b[49m\u001b[43m \u001b[49m\u001b[38;5;241;43m=\u001b[39;49m\u001b[43m \u001b[49m\u001b[43mtimeout\u001b[49m\u001b[43m,\u001b[49m\u001b[43m \u001b[49m\u001b[38;5;241;43m*\u001b[39;49m\u001b[38;5;241;43m*\u001b[39;49m\u001b[43menvironmentSettings\u001b[49m\u001b[43m)\u001b[49m\n\u001b[1;32m    204\u001b[0m \u001b[38;5;28;01mexcept\u001b[39;00m requests\u001b[38;5;241m.\u001b[39mexceptions\u001b[38;5;241m.\u001b[39mRequestException \u001b[38;5;28;01mas\u001b[39;00m exc:\n\u001b[1;32m    205\u001b[0m \t\u001b[38;5;28;01mif\u001b[39;00m attempt \u001b[38;5;241m<\u001b[39m \u001b[38;5;28mself\u001b[39m\u001b[38;5;241m.\u001b[39m_retries:\n",
      "File \u001b[0;32m~/miniconda3/envs/py3.8/lib/python3.8/site-packages/requests/sessions.py:701\u001b[0m, in \u001b[0;36mSession.send\u001b[0;34m(self, request, **kwargs)\u001b[0m\n\u001b[1;32m    698\u001b[0m start \u001b[38;5;241m=\u001b[39m preferred_clock()\n\u001b[1;32m    700\u001b[0m \u001b[38;5;66;03m# Send the request\u001b[39;00m\n\u001b[0;32m--> 701\u001b[0m r \u001b[38;5;241m=\u001b[39m \u001b[43madapter\u001b[49m\u001b[38;5;241;43m.\u001b[39;49m\u001b[43msend\u001b[49m\u001b[43m(\u001b[49m\u001b[43mrequest\u001b[49m\u001b[43m,\u001b[49m\u001b[43m \u001b[49m\u001b[38;5;241;43m*\u001b[39;49m\u001b[38;5;241;43m*\u001b[39;49m\u001b[43mkwargs\u001b[49m\u001b[43m)\u001b[49m\n\u001b[1;32m    703\u001b[0m \u001b[38;5;66;03m# Total elapsed time of the request (approximately)\u001b[39;00m\n\u001b[1;32m    704\u001b[0m elapsed \u001b[38;5;241m=\u001b[39m preferred_clock() \u001b[38;5;241m-\u001b[39m start\n",
      "File \u001b[0;32m~/miniconda3/envs/py3.8/lib/python3.8/site-packages/requests/adapters.py:489\u001b[0m, in \u001b[0;36mHTTPAdapter.send\u001b[0;34m(self, request, stream, timeout, verify, cert, proxies)\u001b[0m\n\u001b[1;32m    487\u001b[0m \u001b[38;5;28;01mtry\u001b[39;00m:\n\u001b[1;32m    488\u001b[0m     \u001b[38;5;28;01mif\u001b[39;00m \u001b[38;5;129;01mnot\u001b[39;00m chunked:\n\u001b[0;32m--> 489\u001b[0m         resp \u001b[38;5;241m=\u001b[39m \u001b[43mconn\u001b[49m\u001b[38;5;241;43m.\u001b[39;49m\u001b[43murlopen\u001b[49m\u001b[43m(\u001b[49m\n\u001b[1;32m    490\u001b[0m \u001b[43m            \u001b[49m\u001b[43mmethod\u001b[49m\u001b[38;5;241;43m=\u001b[39;49m\u001b[43mrequest\u001b[49m\u001b[38;5;241;43m.\u001b[39;49m\u001b[43mmethod\u001b[49m\u001b[43m,\u001b[49m\n\u001b[1;32m    491\u001b[0m \u001b[43m            \u001b[49m\u001b[43murl\u001b[49m\u001b[38;5;241;43m=\u001b[39;49m\u001b[43murl\u001b[49m\u001b[43m,\u001b[49m\n\u001b[1;32m    492\u001b[0m \u001b[43m            \u001b[49m\u001b[43mbody\u001b[49m\u001b[38;5;241;43m=\u001b[39;49m\u001b[43mrequest\u001b[49m\u001b[38;5;241;43m.\u001b[39;49m\u001b[43mbody\u001b[49m\u001b[43m,\u001b[49m\n\u001b[1;32m    493\u001b[0m \u001b[43m            \u001b[49m\u001b[43mheaders\u001b[49m\u001b[38;5;241;43m=\u001b[39;49m\u001b[43mrequest\u001b[49m\u001b[38;5;241;43m.\u001b[39;49m\u001b[43mheaders\u001b[49m\u001b[43m,\u001b[49m\n\u001b[1;32m    494\u001b[0m \u001b[43m            \u001b[49m\u001b[43mredirect\u001b[49m\u001b[38;5;241;43m=\u001b[39;49m\u001b[38;5;28;43;01mFalse\u001b[39;49;00m\u001b[43m,\u001b[49m\n\u001b[1;32m    495\u001b[0m \u001b[43m            \u001b[49m\u001b[43massert_same_host\u001b[49m\u001b[38;5;241;43m=\u001b[39;49m\u001b[38;5;28;43;01mFalse\u001b[39;49;00m\u001b[43m,\u001b[49m\n\u001b[1;32m    496\u001b[0m \u001b[43m            \u001b[49m\u001b[43mpreload_content\u001b[49m\u001b[38;5;241;43m=\u001b[39;49m\u001b[38;5;28;43;01mFalse\u001b[39;49;00m\u001b[43m,\u001b[49m\n\u001b[1;32m    497\u001b[0m \u001b[43m            \u001b[49m\u001b[43mdecode_content\u001b[49m\u001b[38;5;241;43m=\u001b[39;49m\u001b[38;5;28;43;01mFalse\u001b[39;49;00m\u001b[43m,\u001b[49m\n\u001b[1;32m    498\u001b[0m \u001b[43m            \u001b[49m\u001b[43mretries\u001b[49m\u001b[38;5;241;43m=\u001b[39;49m\u001b[38;5;28;43mself\u001b[39;49m\u001b[38;5;241;43m.\u001b[39;49m\u001b[43mmax_retries\u001b[49m\u001b[43m,\u001b[49m\n\u001b[1;32m    499\u001b[0m \u001b[43m            \u001b[49m\u001b[43mtimeout\u001b[49m\u001b[38;5;241;43m=\u001b[39;49m\u001b[43mtimeout\u001b[49m\u001b[43m,\u001b[49m\n\u001b[1;32m    500\u001b[0m \u001b[43m        \u001b[49m\u001b[43m)\u001b[49m\n\u001b[1;32m    502\u001b[0m     \u001b[38;5;66;03m# Send the request.\u001b[39;00m\n\u001b[1;32m    503\u001b[0m     \u001b[38;5;28;01melse\u001b[39;00m:\n\u001b[1;32m    504\u001b[0m         \u001b[38;5;28;01mif\u001b[39;00m \u001b[38;5;28mhasattr\u001b[39m(conn, \u001b[38;5;124m\"\u001b[39m\u001b[38;5;124mproxy_pool\u001b[39m\u001b[38;5;124m\"\u001b[39m):\n",
      "File \u001b[0;32m~/miniconda3/envs/py3.8/lib/python3.8/site-packages/urllib3/connectionpool.py:703\u001b[0m, in \u001b[0;36mHTTPConnectionPool.urlopen\u001b[0;34m(self, method, url, body, headers, retries, redirect, assert_same_host, timeout, pool_timeout, release_conn, chunked, body_pos, **response_kw)\u001b[0m\n\u001b[1;32m    700\u001b[0m     \u001b[38;5;28mself\u001b[39m\u001b[38;5;241m.\u001b[39m_prepare_proxy(conn)\n\u001b[1;32m    702\u001b[0m \u001b[38;5;66;03m# Make the request on the httplib connection object.\u001b[39;00m\n\u001b[0;32m--> 703\u001b[0m httplib_response \u001b[38;5;241m=\u001b[39m \u001b[38;5;28;43mself\u001b[39;49m\u001b[38;5;241;43m.\u001b[39;49m\u001b[43m_make_request\u001b[49m\u001b[43m(\u001b[49m\n\u001b[1;32m    704\u001b[0m \u001b[43m    \u001b[49m\u001b[43mconn\u001b[49m\u001b[43m,\u001b[49m\n\u001b[1;32m    705\u001b[0m \u001b[43m    \u001b[49m\u001b[43mmethod\u001b[49m\u001b[43m,\u001b[49m\n\u001b[1;32m    706\u001b[0m \u001b[43m    \u001b[49m\u001b[43murl\u001b[49m\u001b[43m,\u001b[49m\n\u001b[1;32m    707\u001b[0m \u001b[43m    \u001b[49m\u001b[43mtimeout\u001b[49m\u001b[38;5;241;43m=\u001b[39;49m\u001b[43mtimeout_obj\u001b[49m\u001b[43m,\u001b[49m\n\u001b[1;32m    708\u001b[0m \u001b[43m    \u001b[49m\u001b[43mbody\u001b[49m\u001b[38;5;241;43m=\u001b[39;49m\u001b[43mbody\u001b[49m\u001b[43m,\u001b[49m\n\u001b[1;32m    709\u001b[0m \u001b[43m    \u001b[49m\u001b[43mheaders\u001b[49m\u001b[38;5;241;43m=\u001b[39;49m\u001b[43mheaders\u001b[49m\u001b[43m,\u001b[49m\n\u001b[1;32m    710\u001b[0m \u001b[43m    \u001b[49m\u001b[43mchunked\u001b[49m\u001b[38;5;241;43m=\u001b[39;49m\u001b[43mchunked\u001b[49m\u001b[43m,\u001b[49m\n\u001b[1;32m    711\u001b[0m \u001b[43m\u001b[49m\u001b[43m)\u001b[49m\n\u001b[1;32m    713\u001b[0m \u001b[38;5;66;03m# If we're going to release the connection in ``finally:``, then\u001b[39;00m\n\u001b[1;32m    714\u001b[0m \u001b[38;5;66;03m# the response doesn't need to know about the connection. Otherwise\u001b[39;00m\n\u001b[1;32m    715\u001b[0m \u001b[38;5;66;03m# it will also try to release it and we'll have a double-release\u001b[39;00m\n\u001b[1;32m    716\u001b[0m \u001b[38;5;66;03m# mess.\u001b[39;00m\n\u001b[1;32m    717\u001b[0m response_conn \u001b[38;5;241m=\u001b[39m conn \u001b[38;5;28;01mif\u001b[39;00m \u001b[38;5;129;01mnot\u001b[39;00m release_conn \u001b[38;5;28;01melse\u001b[39;00m \u001b[38;5;28;01mNone\u001b[39;00m\n",
      "File \u001b[0;32m~/miniconda3/envs/py3.8/lib/python3.8/site-packages/urllib3/connectionpool.py:449\u001b[0m, in \u001b[0;36mHTTPConnectionPool._make_request\u001b[0;34m(self, conn, method, url, timeout, chunked, **httplib_request_kw)\u001b[0m\n\u001b[1;32m    444\u001b[0m             httplib_response \u001b[38;5;241m=\u001b[39m conn\u001b[38;5;241m.\u001b[39mgetresponse()\n\u001b[1;32m    445\u001b[0m         \u001b[38;5;28;01mexcept\u001b[39;00m \u001b[38;5;167;01mBaseException\u001b[39;00m \u001b[38;5;28;01mas\u001b[39;00m e:\n\u001b[1;32m    446\u001b[0m             \u001b[38;5;66;03m# Remove the TypeError from the exception chain in\u001b[39;00m\n\u001b[1;32m    447\u001b[0m             \u001b[38;5;66;03m# Python 3 (including for exceptions like SystemExit).\u001b[39;00m\n\u001b[1;32m    448\u001b[0m             \u001b[38;5;66;03m# Otherwise it looks like a bug in the code.\u001b[39;00m\n\u001b[0;32m--> 449\u001b[0m             \u001b[43msix\u001b[49m\u001b[38;5;241;43m.\u001b[39;49m\u001b[43mraise_from\u001b[49m\u001b[43m(\u001b[49m\u001b[43me\u001b[49m\u001b[43m,\u001b[49m\u001b[43m \u001b[49m\u001b[38;5;28;43;01mNone\u001b[39;49;00m\u001b[43m)\u001b[49m\n\u001b[1;32m    450\u001b[0m \u001b[38;5;28;01mexcept\u001b[39;00m (SocketTimeout, BaseSSLError, SocketError) \u001b[38;5;28;01mas\u001b[39;00m e:\n\u001b[1;32m    451\u001b[0m     \u001b[38;5;28mself\u001b[39m\u001b[38;5;241m.\u001b[39m_raise_timeout(err\u001b[38;5;241m=\u001b[39me, url\u001b[38;5;241m=\u001b[39murl, timeout_value\u001b[38;5;241m=\u001b[39mread_timeout)\n",
      "File \u001b[0;32m<string>:3\u001b[0m, in \u001b[0;36mraise_from\u001b[0;34m(value, from_value)\u001b[0m\n",
      "File \u001b[0;32m~/miniconda3/envs/py3.8/lib/python3.8/site-packages/urllib3/connectionpool.py:444\u001b[0m, in \u001b[0;36mHTTPConnectionPool._make_request\u001b[0;34m(self, conn, method, url, timeout, chunked, **httplib_request_kw)\u001b[0m\n\u001b[1;32m    441\u001b[0m \u001b[38;5;28;01mexcept\u001b[39;00m \u001b[38;5;167;01mTypeError\u001b[39;00m:\n\u001b[1;32m    442\u001b[0m     \u001b[38;5;66;03m# Python 3\u001b[39;00m\n\u001b[1;32m    443\u001b[0m     \u001b[38;5;28;01mtry\u001b[39;00m:\n\u001b[0;32m--> 444\u001b[0m         httplib_response \u001b[38;5;241m=\u001b[39m \u001b[43mconn\u001b[49m\u001b[38;5;241;43m.\u001b[39;49m\u001b[43mgetresponse\u001b[49m\u001b[43m(\u001b[49m\u001b[43m)\u001b[49m\n\u001b[1;32m    445\u001b[0m     \u001b[38;5;28;01mexcept\u001b[39;00m \u001b[38;5;167;01mBaseException\u001b[39;00m \u001b[38;5;28;01mas\u001b[39;00m e:\n\u001b[1;32m    446\u001b[0m         \u001b[38;5;66;03m# Remove the TypeError from the exception chain in\u001b[39;00m\n\u001b[1;32m    447\u001b[0m         \u001b[38;5;66;03m# Python 3 (including for exceptions like SystemExit).\u001b[39;00m\n\u001b[1;32m    448\u001b[0m         \u001b[38;5;66;03m# Otherwise it looks like a bug in the code.\u001b[39;00m\n\u001b[1;32m    449\u001b[0m         six\u001b[38;5;241m.\u001b[39mraise_from(e, \u001b[38;5;28;01mNone\u001b[39;00m)\n",
      "File \u001b[0;32m~/miniconda3/envs/py3.8/lib/python3.8/http/client.py:1348\u001b[0m, in \u001b[0;36mHTTPConnection.getresponse\u001b[0;34m(self)\u001b[0m\n\u001b[1;32m   1346\u001b[0m \u001b[38;5;28;01mtry\u001b[39;00m:\n\u001b[1;32m   1347\u001b[0m     \u001b[38;5;28;01mtry\u001b[39;00m:\n\u001b[0;32m-> 1348\u001b[0m         \u001b[43mresponse\u001b[49m\u001b[38;5;241;43m.\u001b[39;49m\u001b[43mbegin\u001b[49m\u001b[43m(\u001b[49m\u001b[43m)\u001b[49m\n\u001b[1;32m   1349\u001b[0m     \u001b[38;5;28;01mexcept\u001b[39;00m \u001b[38;5;167;01mConnectionError\u001b[39;00m:\n\u001b[1;32m   1350\u001b[0m         \u001b[38;5;28mself\u001b[39m\u001b[38;5;241m.\u001b[39mclose()\n",
      "File \u001b[0;32m~/miniconda3/envs/py3.8/lib/python3.8/http/client.py:316\u001b[0m, in \u001b[0;36mHTTPResponse.begin\u001b[0;34m(self)\u001b[0m\n\u001b[1;32m    314\u001b[0m \u001b[38;5;66;03m# read until we get a non-100 response\u001b[39;00m\n\u001b[1;32m    315\u001b[0m \u001b[38;5;28;01mwhile\u001b[39;00m \u001b[38;5;28;01mTrue\u001b[39;00m:\n\u001b[0;32m--> 316\u001b[0m     version, status, reason \u001b[38;5;241m=\u001b[39m \u001b[38;5;28;43mself\u001b[39;49m\u001b[38;5;241;43m.\u001b[39;49m\u001b[43m_read_status\u001b[49m\u001b[43m(\u001b[49m\u001b[43m)\u001b[49m\n\u001b[1;32m    317\u001b[0m     \u001b[38;5;28;01mif\u001b[39;00m status \u001b[38;5;241m!=\u001b[39m CONTINUE:\n\u001b[1;32m    318\u001b[0m         \u001b[38;5;28;01mbreak\u001b[39;00m\n",
      "File \u001b[0;32m~/miniconda3/envs/py3.8/lib/python3.8/http/client.py:277\u001b[0m, in \u001b[0;36mHTTPResponse._read_status\u001b[0;34m(self)\u001b[0m\n\u001b[1;32m    276\u001b[0m \u001b[38;5;28;01mdef\u001b[39;00m \u001b[38;5;21m_read_status\u001b[39m(\u001b[38;5;28mself\u001b[39m):\n\u001b[0;32m--> 277\u001b[0m     line \u001b[38;5;241m=\u001b[39m \u001b[38;5;28mstr\u001b[39m(\u001b[38;5;28;43mself\u001b[39;49m\u001b[38;5;241;43m.\u001b[39;49m\u001b[43mfp\u001b[49m\u001b[38;5;241;43m.\u001b[39;49m\u001b[43mreadline\u001b[49m\u001b[43m(\u001b[49m\u001b[43m_MAXLINE\u001b[49m\u001b[43m \u001b[49m\u001b[38;5;241;43m+\u001b[39;49m\u001b[43m \u001b[49m\u001b[38;5;241;43m1\u001b[39;49m\u001b[43m)\u001b[49m, \u001b[38;5;124m\"\u001b[39m\u001b[38;5;124miso-8859-1\u001b[39m\u001b[38;5;124m\"\u001b[39m)\n\u001b[1;32m    278\u001b[0m     \u001b[38;5;28;01mif\u001b[39;00m \u001b[38;5;28mlen\u001b[39m(line) \u001b[38;5;241m>\u001b[39m _MAXLINE:\n\u001b[1;32m    279\u001b[0m         \u001b[38;5;28;01mraise\u001b[39;00m LineTooLong(\u001b[38;5;124m\"\u001b[39m\u001b[38;5;124mstatus line\u001b[39m\u001b[38;5;124m\"\u001b[39m)\n",
      "File \u001b[0;32m~/miniconda3/envs/py3.8/lib/python3.8/socket.py:669\u001b[0m, in \u001b[0;36mSocketIO.readinto\u001b[0;34m(self, b)\u001b[0m\n\u001b[1;32m    667\u001b[0m \u001b[38;5;28;01mwhile\u001b[39;00m \u001b[38;5;28;01mTrue\u001b[39;00m:\n\u001b[1;32m    668\u001b[0m     \u001b[38;5;28;01mtry\u001b[39;00m:\n\u001b[0;32m--> 669\u001b[0m         \u001b[38;5;28;01mreturn\u001b[39;00m \u001b[38;5;28;43mself\u001b[39;49m\u001b[38;5;241;43m.\u001b[39;49m\u001b[43m_sock\u001b[49m\u001b[38;5;241;43m.\u001b[39;49m\u001b[43mrecv_into\u001b[49m\u001b[43m(\u001b[49m\u001b[43mb\u001b[49m\u001b[43m)\u001b[49m\n\u001b[1;32m    670\u001b[0m     \u001b[38;5;28;01mexcept\u001b[39;00m timeout:\n\u001b[1;32m    671\u001b[0m         \u001b[38;5;28mself\u001b[39m\u001b[38;5;241m.\u001b[39m_timeout_occurred \u001b[38;5;241m=\u001b[39m \u001b[38;5;28;01mTrue\u001b[39;00m\n",
      "File \u001b[0;32m~/miniconda3/envs/py3.8/lib/python3.8/ssl.py:1241\u001b[0m, in \u001b[0;36mSSLSocket.recv_into\u001b[0;34m(self, buffer, nbytes, flags)\u001b[0m\n\u001b[1;32m   1237\u001b[0m     \u001b[38;5;28;01mif\u001b[39;00m flags \u001b[38;5;241m!=\u001b[39m \u001b[38;5;241m0\u001b[39m:\n\u001b[1;32m   1238\u001b[0m         \u001b[38;5;28;01mraise\u001b[39;00m \u001b[38;5;167;01mValueError\u001b[39;00m(\n\u001b[1;32m   1239\u001b[0m           \u001b[38;5;124m\"\u001b[39m\u001b[38;5;124mnon-zero flags not allowed in calls to recv_into() on \u001b[39m\u001b[38;5;132;01m%s\u001b[39;00m\u001b[38;5;124m\"\u001b[39m \u001b[38;5;241m%\u001b[39m\n\u001b[1;32m   1240\u001b[0m           \u001b[38;5;28mself\u001b[39m\u001b[38;5;241m.\u001b[39m\u001b[38;5;18m__class__\u001b[39m)\n\u001b[0;32m-> 1241\u001b[0m     \u001b[38;5;28;01mreturn\u001b[39;00m \u001b[38;5;28;43mself\u001b[39;49m\u001b[38;5;241;43m.\u001b[39;49m\u001b[43mread\u001b[49m\u001b[43m(\u001b[49m\u001b[43mnbytes\u001b[49m\u001b[43m,\u001b[49m\u001b[43m \u001b[49m\u001b[43mbuffer\u001b[49m\u001b[43m)\u001b[49m\n\u001b[1;32m   1242\u001b[0m \u001b[38;5;28;01melse\u001b[39;00m:\n\u001b[1;32m   1243\u001b[0m     \u001b[38;5;28;01mreturn\u001b[39;00m \u001b[38;5;28msuper\u001b[39m()\u001b[38;5;241m.\u001b[39mrecv_into(buffer, nbytes, flags)\n",
      "File \u001b[0;32m~/miniconda3/envs/py3.8/lib/python3.8/ssl.py:1099\u001b[0m, in \u001b[0;36mSSLSocket.read\u001b[0;34m(self, len, buffer)\u001b[0m\n\u001b[1;32m   1097\u001b[0m \u001b[38;5;28;01mtry\u001b[39;00m:\n\u001b[1;32m   1098\u001b[0m     \u001b[38;5;28;01mif\u001b[39;00m buffer \u001b[38;5;129;01mis\u001b[39;00m \u001b[38;5;129;01mnot\u001b[39;00m \u001b[38;5;28;01mNone\u001b[39;00m:\n\u001b[0;32m-> 1099\u001b[0m         \u001b[38;5;28;01mreturn\u001b[39;00m \u001b[38;5;28;43mself\u001b[39;49m\u001b[38;5;241;43m.\u001b[39;49m\u001b[43m_sslobj\u001b[49m\u001b[38;5;241;43m.\u001b[39;49m\u001b[43mread\u001b[49m\u001b[43m(\u001b[49m\u001b[38;5;28;43mlen\u001b[39;49m\u001b[43m,\u001b[49m\u001b[43m \u001b[49m\u001b[43mbuffer\u001b[49m\u001b[43m)\u001b[49m\n\u001b[1;32m   1100\u001b[0m     \u001b[38;5;28;01melse\u001b[39;00m:\n\u001b[1;32m   1101\u001b[0m         \u001b[38;5;28;01mreturn\u001b[39;00m \u001b[38;5;28mself\u001b[39m\u001b[38;5;241m.\u001b[39m_sslobj\u001b[38;5;241m.\u001b[39mread(\u001b[38;5;28mlen\u001b[39m)\n",
      "\u001b[0;31mKeyboardInterrupt\u001b[0m: "
     ]
    }
   ],
   "source": [
    "for tweet in tweets_gen:\n",
    "    print(tweet)"
   ]
  },
  {
   "cell_type": "code",
   "execution_count": null,
   "id": "f056fb14",
   "metadata": {},
   "outputs": [],
   "source": [
    "top_tweets = itertools.islice(tweets_gen, n_tweets)"
   ]
  }
 ],
 "metadata": {
  "kernelspec": {
   "display_name": "py3.8.13",
   "language": "python",
   "name": "py3.8"
  },
  "language_info": {
   "codemirror_mode": {
    "name": "ipython",
    "version": 3
   },
   "file_extension": ".py",
   "mimetype": "text/x-python",
   "name": "python",
   "nbconvert_exporter": "python",
   "pygments_lexer": "ipython3",
   "version": "3.8.13"
  }
 },
 "nbformat": 4,
 "nbformat_minor": 5
}
