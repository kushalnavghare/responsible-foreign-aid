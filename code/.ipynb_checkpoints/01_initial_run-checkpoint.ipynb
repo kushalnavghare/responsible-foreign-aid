{
 "cells": [
  {
   "cell_type": "code",
   "execution_count": 1,
   "id": "c208ff0a",
   "metadata": {
    "ExecuteTime": {
     "end_time": "2023-04-07T04:44:59.424506Z",
     "start_time": "2023-04-07T04:44:58.703067Z"
    }
   },
   "outputs": [],
   "source": [
    "import csv\n",
    "import snscrape.modules.twitter as sntwitter\n",
    "import itertools\n",
    "import pandas as pd\n",
    "import json"
   ]
  },
  {
   "cell_type": "code",
   "execution_count": 2,
   "id": "700c3edc",
   "metadata": {
    "ExecuteTime": {
     "end_time": "2023-04-07T04:44:59.434580Z",
     "start_time": "2023-04-07T04:44:59.428616Z"
    }
   },
   "outputs": [],
   "source": [
    "pd.options.display.max_columns = None"
   ]
  },
  {
   "cell_type": "code",
   "execution_count": 3,
   "id": "71e33b77",
   "metadata": {
    "ExecuteTime": {
     "end_time": "2023-04-07T01:22:49.785120Z",
     "start_time": "2023-04-07T01:22:49.775188Z"
    }
   },
   "outputs": [],
   "source": [
    "OUTPUT_FILE = \"../data/results.csv\""
   ]
  },
  {
   "cell_type": "code",
   "execution_count": 4,
   "id": "38f300c7",
   "metadata": {
    "ExecuteTime": {
     "end_time": "2023-04-07T01:22:49.792355Z",
     "start_time": "2023-04-07T01:22:49.787306Z"
    }
   },
   "outputs": [],
   "source": [
    "def save_tweets(query, n_tweets):\n",
    "    \"\"\"\n",
    "    Finds the latest tweets according to a query and saves them in a csv file\n",
    "    :param query: the query to look for\n",
    "    :param n_tweets: number of tweets to scrape\n",
    "    \"\"\"\n",
    "    with open(OUTPUT_FILE, 'w', encoding='utf-8', newline='') as file:\n",
    "        writer = csv.writer(file)\n",
    "        writer.writerow(['id', 'date', 'username', 'content', 'url'])\n",
    "        \n",
    "        tweets_gen = sntwitter.TwitterSearchScraper(query).get_items()\n",
    "        top_tweets = itertools.islice(tweets_gen, n_tweets)\n",
    "        \n",
    "        for tweet in top_tweets:\n",
    "            writer.writerow([tweet.id, tweet.date, tweet.username, tweet.content, tweet.url])\n",
    "        \n",
    "        print('Done!')"
   ]
  },
  {
   "cell_type": "code",
   "execution_count": 5,
   "id": "c188551d",
   "metadata": {
    "ExecuteTime": {
     "end_time": "2023-04-07T01:22:49.798624Z",
     "start_time": "2023-04-07T01:22:49.795068Z"
    }
   },
   "outputs": [],
   "source": [
    "query = \"#foreignaid\""
   ]
  },
  {
   "cell_type": "code",
   "execution_count": 6,
   "id": "0d679058",
   "metadata": {
    "ExecuteTime": {
     "end_time": "2023-04-07T01:22:51.551284Z",
     "start_time": "2023-04-07T01:22:49.802351Z"
    }
   },
   "outputs": [
    {
     "name": "stdout",
     "output_type": "stream",
     "text": [
      "Done!\n"
     ]
    },
    {
     "name": "stderr",
     "output_type": "stream",
     "text": [
      "/tmp/ipykernel_12009/2365005399.py:15: DeprecatedFeatureWarning: username is deprecated, use user.username instead\n",
      "  writer.writerow([tweet.id, tweet.date, tweet.username, tweet.content, tweet.url])\n",
      "/tmp/ipykernel_12009/2365005399.py:15: DeprecatedFeatureWarning: content is deprecated, use rawContent instead\n",
      "  writer.writerow([tweet.id, tweet.date, tweet.username, tweet.content, tweet.url])\n"
     ]
    }
   ],
   "source": [
    "save_tweets(query=query, n_tweets=10)"
   ]
  },
  {
   "cell_type": "code",
   "execution_count": 7,
   "id": "76dd82d3",
   "metadata": {
    "ExecuteTime": {
     "end_time": "2023-04-07T01:22:51.563361Z",
     "start_time": "2023-04-07T01:22:51.554746Z"
    }
   },
   "outputs": [],
   "source": [
    "tweets_gen = sntwitter.TwitterSearchScraper(query).get_items()"
   ]
  },
  {
   "cell_type": "markdown",
   "id": "66c82ad8",
   "metadata": {},
   "source": [
    "## Advanced"
   ]
  },
  {
   "cell_type": "markdown",
   "id": "21d9214a",
   "metadata": {},
   "source": [
    "Advanced Search reference: https://github.com/igorbrigadir/twitter-advanced-search"
   ]
  },
  {
   "cell_type": "code",
   "execution_count": 8,
   "id": "6a52ba2e",
   "metadata": {
    "ExecuteTime": {
     "end_time": "2023-04-07T01:22:51.580998Z",
     "start_time": "2023-04-07T01:22:51.569051Z"
    }
   },
   "outputs": [],
   "source": [
    "def advancedTweetSearch(query, loc, start, end, lang=\"en\"):\n",
    "    TWEET_STOR = []\n",
    "    LOC_STOR = []\n",
    "    \n",
    "    scraped_tweets = sntwitter.TwitterSearchScraper(f'{query} geocode:\"{loc}\"since:{start} until:{end}').get_items()\n",
    "    \n",
    "    sliced_scraped_tweets = itertools.islice(scraped_tweets, 10000)\n",
    "    \n",
    "    \n",
    "    for tweet in sliced_scraped_tweets:\n",
    "        try:\n",
    "            LOC_STOR.append(json.loads(tweet.json())['place']['country'])\n",
    "            TWEET_STOR.append(json.loads(tweet.json()))\n",
    "        except TypeError:\n",
    "            continue\n",
    "        \n",
    "    return TWEET_STOR, LOC_STOR"
   ]
  },
  {
   "cell_type": "code",
   "execution_count": 9,
   "id": "f71e15ba",
   "metadata": {
    "ExecuteTime": {
     "end_time": "2023-04-07T01:22:51.599570Z",
     "start_time": "2023-04-07T01:22:51.590133Z"
    }
   },
   "outputs": [],
   "source": [
    "query = \"economic development OR #economicdevelopment\"\n",
    "start = '2019-01-01'\n",
    "end = '2023-01-01'\n",
    "loc = \"-3.337954,119.882813, 4000km\""
   ]
  },
  {
   "cell_type": "code",
   "execution_count": 10,
   "id": "0e8d456b",
   "metadata": {
    "ExecuteTime": {
     "end_time": "2023-04-07T01:29:08.900643Z",
     "start_time": "2023-04-07T01:22:51.608364Z"
    }
   },
   "outputs": [
    {
     "name": "stdout",
     "output_type": "stream",
     "text": [
      "CPU times: user 11 s, sys: 132 ms, total: 11.1 s\n",
      "Wall time: 6min 17s\n"
     ]
    }
   ],
   "source": [
    "%time southest_asia, location_details = advancedTweetSearch(query=query, start=start, end=end, loc=loc)"
   ]
  },
  {
   "cell_type": "code",
   "execution_count": 11,
   "id": "6c854bb8",
   "metadata": {
    "ExecuteTime": {
     "end_time": "2023-04-07T01:29:08.922970Z",
     "start_time": "2023-04-07T01:29:08.904407Z"
    }
   },
   "outputs": [
    {
     "data": {
      "text/plain": [
       "India                         3066\n",
       "Pakistan                       453\n",
       "Australia                      311\n",
       "Bangladesh                     113\n",
       "Maldives                        98\n",
       "Sri Lanka                       72\n",
       "Nepal                           61\n",
       "People's Republic of China      47\n",
       "Indonesia                       27\n",
       "Taiwan                          20\n",
       "East Timor                      10\n",
       "Papua New Guinea                 7\n",
       "Bhutan                           6\n",
       "Northern Mariana Islands         3\n",
       "Guam                             3\n",
       "Japan                            3\n",
       "                                 2\n",
       "United States                    1\n",
       "dtype: int64"
      ]
     },
     "execution_count": 11,
     "metadata": {},
     "output_type": "execute_result"
    }
   ],
   "source": [
    "pd.Series(location_details).value_counts()"
   ]
  },
  {
   "cell_type": "code",
   "execution_count": 12,
   "id": "561a1b54",
   "metadata": {
    "ExecuteTime": {
     "end_time": "2023-04-07T01:29:08.942092Z",
     "start_time": "2023-04-07T01:29:08.925516Z"
    }
   },
   "outputs": [
    {
     "data": {
      "text/plain": [
       "{'ca',\n",
       " 'da',\n",
       " 'en',\n",
       " 'es',\n",
       " 'et',\n",
       " 'fr',\n",
       " 'hi',\n",
       " 'ht',\n",
       " 'in',\n",
       " 'mr',\n",
       " 'nl',\n",
       " 'pt',\n",
       " 'ro',\n",
       " 'tl',\n",
       " 'und',\n",
       " 'zh'}"
      ]
     },
     "execution_count": 12,
     "metadata": {},
     "output_type": "execute_result"
    }
   ],
   "source": [
    "set([(tweet['lang']) for tweet in southest_asia])"
   ]
  },
  {
   "cell_type": "code",
   "execution_count": 13,
   "id": "bdaefd2d",
   "metadata": {
    "ExecuteTime": {
     "end_time": "2023-04-07T01:29:08.948256Z",
     "start_time": "2023-04-07T01:29:08.944436Z"
    }
   },
   "outputs": [],
   "source": [
    "# brazil\n",
    "\n",
    "loc = \"-8.581021,-51.328125, 5000km\""
   ]
  },
  {
   "cell_type": "code",
   "execution_count": 14,
   "id": "93660726",
   "metadata": {
    "ExecuteTime": {
     "end_time": "2023-04-07T01:36:56.560797Z",
     "start_time": "2023-04-07T01:29:08.951192Z"
    }
   },
   "outputs": [
    {
     "name": "stdout",
     "output_type": "stream",
     "text": [
      "CPU times: user 14.4 s, sys: 144 ms, total: 14.5 s\n",
      "Wall time: 7min 47s\n"
     ]
    }
   ],
   "source": [
    "%time lat_amrica, location_details = advancedTweetSearch(query=query, start=start, end=end, loc=loc)"
   ]
  },
  {
   "cell_type": "code",
   "execution_count": 15,
   "id": "256c1272",
   "metadata": {
    "ExecuteTime": {
     "end_time": "2023-04-07T01:36:56.575744Z",
     "start_time": "2023-04-07T01:36:56.564320Z"
    }
   },
   "outputs": [
    {
     "data": {
      "text/plain": [
       "United States    4302\n",
       "Ghana             496\n",
       "Mexico             58\n",
       "Sierra Leone       46\n",
       "Morocco            31\n",
       "Gambia             25\n",
       "Fiji               24\n",
       "Spain              19\n",
       "Ivory Coast        19\n",
       "Senegal            18\n",
       "Brazil             16\n",
       "Liberia            15\n",
       "Bahamas            10\n",
       "Guatemala           7\n",
       "Bermuda             6\n",
       "Cape Verde          4\n",
       "Guinea              3\n",
       "Mali                2\n",
       "Portugal            1\n",
       "Gibraltar           1\n",
       "Burkina Faso        1\n",
       "Ecuador             1\n",
       "Argentina           1\n",
       "Mauritania          1\n",
       "Guinea Bissau       1\n",
       "dtype: int64"
      ]
     },
     "execution_count": 15,
     "metadata": {},
     "output_type": "execute_result"
    }
   ],
   "source": [
    "pd.Series(location_details).value_counts()"
   ]
  },
  {
   "cell_type": "code",
   "execution_count": 16,
   "id": "61336559",
   "metadata": {
    "ExecuteTime": {
     "end_time": "2023-04-07T01:36:56.622893Z",
     "start_time": "2023-04-07T01:36:56.578664Z"
    }
   },
   "outputs": [
    {
     "data": {
      "text/plain": [
       "{'ca', 'en', 'es', 'fr', 'pt', 'ro'}"
      ]
     },
     "execution_count": 16,
     "metadata": {},
     "output_type": "execute_result"
    }
   ],
   "source": [
    "set([tweet['lang'] for tweet in lat_amrica])"
   ]
  },
  {
   "cell_type": "markdown",
   "id": "2895a9ff",
   "metadata": {},
   "source": [
    "# store tweets"
   ]
  },
  {
   "cell_type": "code",
   "execution_count": 3,
   "id": "e474b7b7",
   "metadata": {
    "ExecuteTime": {
     "end_time": "2023-04-07T04:45:05.275376Z",
     "start_time": "2023-04-07T04:45:05.271094Z"
    }
   },
   "outputs": [],
   "source": [
    "import pickle"
   ]
  },
  {
   "cell_type": "code",
   "execution_count": 6,
   "id": "411e450e",
   "metadata": {
    "ExecuteTime": {
     "end_time": "2023-04-07T04:52:04.285049Z",
     "start_time": "2023-04-07T04:52:04.008562Z"
    }
   },
   "outputs": [],
   "source": [
    "with open('../data/01_raw_latin_amr_tweets.pickle', 'rb') as f:\n",
    "    lat_amrica = pickle.load(f)\n",
    "f.close()"
   ]
  },
  {
   "cell_type": "code",
   "execution_count": 7,
   "id": "ed8835f3",
   "metadata": {
    "ExecuteTime": {
     "end_time": "2023-04-07T04:52:08.647648Z",
     "start_time": "2023-04-07T04:52:08.392387Z"
    }
   },
   "outputs": [],
   "source": [
    "with open('../data/01_raw_southest_asia_tweets.pickle', 'rb') as f:\n",
    "    southest_asia = pickle.load(f)\n",
    "f.close()"
   ]
  },
  {
   "cell_type": "code",
   "execution_count": 43,
   "id": "f760264d",
   "metadata": {
    "ExecuteTime": {
     "end_time": "2023-04-07T01:42:04.137191Z",
     "start_time": "2023-04-07T01:42:03.894155Z"
    }
   },
   "outputs": [],
   "source": [
    "# with open('../data/01_raw_latin_amr_tweets.pickle', 'wb') as f:\n",
    "#     pickle.dump(lat_amrica, f)\n",
    "# f.close()"
   ]
  },
  {
   "cell_type": "code",
   "execution_count": 45,
   "id": "64f90774",
   "metadata": {
    "ExecuteTime": {
     "end_time": "2023-04-07T01:42:32.675621Z",
     "start_time": "2023-04-07T01:42:32.494541Z"
    }
   },
   "outputs": [],
   "source": [
    "# with open('../data/01_raw_southest_asia_tweets.pickle', 'wb') as f:\n",
    "#     pickle.dump(southest_asia, f)\n",
    "# f.close()"
   ]
  },
  {
   "cell_type": "code",
   "execution_count": 8,
   "id": "1b0dd252",
   "metadata": {
    "ExecuteTime": {
     "end_time": "2023-04-07T04:52:09.986665Z",
     "start_time": "2023-04-07T04:52:09.980578Z"
    }
   },
   "outputs": [
    {
     "data": {
      "text/plain": [
       "dict_keys(['_type', 'url', 'date', 'rawContent', 'renderedContent', 'id', 'user', 'replyCount', 'retweetCount', 'likeCount', 'quoteCount', 'conversationId', 'lang', 'source', 'sourceUrl', 'sourceLabel', 'links', 'media', 'retweetedTweet', 'quotedTweet', 'inReplyToTweetId', 'inReplyToUser', 'mentionedUsers', 'coordinates', 'place', 'hashtags', 'cashtags', 'card', 'viewCount', 'vibe', 'content', 'outlinks', 'outlinksss', 'tcooutlinks', 'tcooutlinksss', 'username'])"
      ]
     },
     "execution_count": 8,
     "metadata": {},
     "output_type": "execute_result"
    }
   ],
   "source": [
    "lat_amrica[0].keys()"
   ]
  },
  {
   "cell_type": "code",
   "execution_count": 71,
   "id": "eec5b8d7",
   "metadata": {
    "ExecuteTime": {
     "end_time": "2023-04-07T05:16:58.772382Z",
     "start_time": "2023-04-07T05:16:58.757943Z"
    }
   },
   "outputs": [],
   "source": [
    "MAIN_COLS = ['url', 'date', 'rawContent', 'renderedContent', 'id', 'replyCount', 'retweetCount',\n",
    "             'likeCount', 'quoteCount', 'lang', 'retweetedTweet', 'quotedTweet', 'inReplyToTweetId',\n",
    "             'inReplyToUser', 'mentionedUsers', 'hashtags', 'cashtags', \n",
    "            'viewCount', 'vibe', 'content']\n",
    "USER_COLS = ['username', 'id', 'rawDescription', 'renderedDescription', 'created', 'followersCount', 'statusesCount', \n",
    "            'favouritesCount', 'listedCount']\n",
    "CARD_COLS = ['title', 'description', 'siteUser']\n",
    "\n",
    "SITE_USER_COLS = ['id', 'displayname', 'rawDescription', 'renderedDescription', 'verified', 'created', \n",
    " 'followersCount', 'friendsCount', 'statusesCount', 'favouritesCount', 'listedCount', 'mediaCount', 'location']"
   ]
  },
  {
   "cell_type": "code",
   "execution_count": 72,
   "id": "637e8e8d",
   "metadata": {
    "ExecuteTime": {
     "end_time": "2023-04-07T05:17:02.946255Z",
     "start_time": "2023-04-07T05:17:02.550355Z"
    }
   },
   "outputs": [],
   "source": [
    "lat_amr_df = pd.json_normalize(lat_amrica)"
   ]
  },
  {
   "cell_type": "code",
   "execution_count": 73,
   "id": "f4b511c5",
   "metadata": {
    "ExecuteTime": {
     "end_time": "2023-04-07T05:17:02.952290Z",
     "start_time": "2023-04-07T05:17:02.948403Z"
    }
   },
   "outputs": [
    {
     "name": "stderr",
     "output_type": "stream",
     "text": [
      "/tmp/ipykernel_4686/2142218018.py:1: FutureWarning: The default value of regex will change from True to False in a future version. In addition, single character regular expressions will *not* be treated as literal strings when regex=True.\n",
      "  lat_amr_df.columns = lat_amr_df.columns.str.replace('.', '_')\n"
     ]
    }
   ],
   "source": [
    "lat_amr_df.columns = lat_amr_df.columns.str.replace('.', '_')"
   ]
  },
  {
   "cell_type": "code",
   "execution_count": 74,
   "id": "133a5504",
   "metadata": {
    "ExecuteTime": {
     "end_time": "2023-04-07T05:17:02.967128Z",
     "start_time": "2023-04-07T05:17:02.953590Z"
    }
   },
   "outputs": [
    {
     "data": {
      "text/plain": [
       "[]"
      ]
     },
     "execution_count": 74,
     "metadata": {},
     "output_type": "execute_result"
    }
   ],
   "source": [
    "['user_' + col for col in USER_COLS if 'user_' + col not in lat_amr_df.columns]"
   ]
  },
  {
   "cell_type": "code",
   "execution_count": 75,
   "id": "003ce649",
   "metadata": {
    "ExecuteTime": {
     "end_time": "2023-04-07T05:17:02.975705Z",
     "start_time": "2023-04-07T05:17:02.970325Z"
    }
   },
   "outputs": [
    {
     "data": {
      "text/plain": [
       "[]"
      ]
     },
     "execution_count": 75,
     "metadata": {},
     "output_type": "execute_result"
    }
   ],
   "source": [
    "['card_' + col for col in CARD_COLS if 'card_' + col not in lat_amr_df.columns]"
   ]
  },
  {
   "cell_type": "code",
   "execution_count": 76,
   "id": "bed5fb02",
   "metadata": {
    "ExecuteTime": {
     "end_time": "2023-04-07T05:17:02.982490Z",
     "start_time": "2023-04-07T05:17:02.977508Z"
    }
   },
   "outputs": [
    {
     "data": {
      "text/plain": [
       "['card_siteUser__id',\n",
       " 'card_siteUser__displayname',\n",
       " 'card_siteUser__rawDescription',\n",
       " 'card_siteUser__renderedDescription',\n",
       " 'card_siteUser__verified',\n",
       " 'card_siteUser__created',\n",
       " 'card_siteUser__followersCount',\n",
       " 'card_siteUser__friendsCount',\n",
       " 'card_siteUser__statusesCount',\n",
       " 'card_siteUser__favouritesCount',\n",
       " 'card_siteUser__listedCount',\n",
       " 'card_siteUser__mediaCount',\n",
       " 'card_siteUser__location']"
      ]
     },
     "execution_count": 76,
     "metadata": {},
     "output_type": "execute_result"
    }
   ],
   "source": [
    "['card_siteUser__' + col for col in SITE_USER_COLS if 'card_siteUser__' + col not in lat_amr_df.columns]"
   ]
  },
  {
   "cell_type": "code",
   "execution_count": 77,
   "id": "8910438b",
   "metadata": {
    "ExecuteTime": {
     "end_time": "2023-04-07T05:17:02.988863Z",
     "start_time": "2023-04-07T05:17:02.984241Z"
    }
   },
   "outputs": [
    {
     "data": {
      "text/plain": [
       "['place__type',\n",
       " 'place_id',\n",
       " 'place_fullName',\n",
       " 'place_name',\n",
       " 'place_type',\n",
       " 'place_country',\n",
       " 'place_countryCode']"
      ]
     },
     "execution_count": 77,
     "metadata": {},
     "output_type": "execute_result"
    }
   ],
   "source": [
    "[col for col in lat_amr_df.columns if col.startswith(\"place\")]"
   ]
  },
  {
   "cell_type": "code",
   "execution_count": 78,
   "id": "4944f87f",
   "metadata": {
    "ExecuteTime": {
     "end_time": "2023-04-07T05:17:02.994543Z",
     "start_time": "2023-04-07T05:17:02.990586Z"
    }
   },
   "outputs": [],
   "source": [
    "all_cols = MAIN_COLS + ['user_' + col for col in USER_COLS] + \\\n",
    "['card_' + col for col in CARD_COLS] + ['card_siteUser_' + col for col in SITE_USER_COLS] +  ['place__type',\n",
    " 'place_id',\n",
    " 'place_fullName',\n",
    " 'place_name',\n",
    " 'place_type',\n",
    " 'place_country',\n",
    " 'place_countryCode']"
   ]
  },
  {
   "cell_type": "code",
   "execution_count": 94,
   "id": "970adcf7",
   "metadata": {
    "ExecuteTime": {
     "end_time": "2023-04-07T05:27:07.073289Z",
     "start_time": "2023-04-07T05:27:07.056509Z"
    }
   },
   "outputs": [
    {
     "data": {
      "text/plain": [
       "4312                                                 None\n",
       "4670                                                 None\n",
       "1706    [{'_type': 'snscrape.modules.twitter.User', 'u...\n",
       "179                                                  None\n",
       "1230                                                 None\n",
       "Name: mentionedUsers, dtype: object"
      ]
     },
     "execution_count": 94,
     "metadata": {},
     "output_type": "execute_result"
    }
   ],
   "source": [
    "lat_amr_df[all_cols]['mentionedUsers'].sample(5)"
   ]
  },
  {
   "cell_type": "code",
   "execution_count": 81,
   "id": "c6df3925",
   "metadata": {
    "ExecuteTime": {
     "end_time": "2023-04-07T05:18:34.453787Z",
     "start_time": "2023-04-07T05:18:34.119504Z"
    }
   },
   "outputs": [],
   "source": [
    "sthest_as_df = pd.json_normalize(southest_asia)"
   ]
  },
  {
   "cell_type": "code",
   "execution_count": 82,
   "id": "5af1a29b",
   "metadata": {
    "ExecuteTime": {
     "end_time": "2023-04-07T05:18:50.334372Z",
     "start_time": "2023-04-07T05:18:50.326658Z"
    }
   },
   "outputs": [
    {
     "name": "stderr",
     "output_type": "stream",
     "text": [
      "/tmp/ipykernel_4686/175861509.py:1: FutureWarning: The default value of regex will change from True to False in a future version. In addition, single character regular expressions will *not* be treated as literal strings when regex=True.\n",
      "  sthest_as_df.columns = sthest_as_df.columns.str.replace('.', '_')\n"
     ]
    }
   ],
   "source": [
    "sthest_as_df.columns = sthest_as_df.columns.str.replace('.', '_')"
   ]
  },
  {
   "cell_type": "code",
   "execution_count": null,
   "id": "d183b2d2",
   "metadata": {},
   "outputs": [],
   "source": []
  }
 ],
 "metadata": {
  "kernelspec": {
   "display_name": "py3.8.13",
   "language": "python",
   "name": "py3.8"
  },
  "language_info": {
   "codemirror_mode": {
    "name": "ipython",
    "version": 3
   },
   "file_extension": ".py",
   "mimetype": "text/x-python",
   "name": "python",
   "nbconvert_exporter": "python",
   "pygments_lexer": "ipython3",
   "version": "3.8.13"
  }
 },
 "nbformat": 4,
 "nbformat_minor": 5
}
