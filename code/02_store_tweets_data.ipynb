{
 "cells": [
  {
   "cell_type": "code",
   "execution_count": 2,
   "id": "aa081e7c",
   "metadata": {
    "ExecuteTime": {
     "end_time": "2023-04-07T22:27:26.494300Z",
     "start_time": "2023-04-07T22:27:25.933994Z"
    }
   },
   "outputs": [],
   "source": [
    "import pandas as pd\n",
    "import pickle\n",
    "import json"
   ]
  },
  {
   "cell_type": "markdown",
   "id": "16acac48",
   "metadata": {},
   "source": [
    "# load data into a csv file"
   ]
  },
  {
   "cell_type": "code",
   "execution_count": 3,
   "id": "2f8be4b0",
   "metadata": {
    "ExecuteTime": {
     "end_time": "2023-04-07T22:27:26.793652Z",
     "start_time": "2023-04-07T22:27:26.497358Z"
    }
   },
   "outputs": [],
   "source": [
    "with open('../data/01_raw_latin_amr_tweets.pickle', 'rb') as f:\n",
    "    lat_amrica = pickle.load(f)\n",
    "f.close()"
   ]
  },
  {
   "cell_type": "code",
   "execution_count": 4,
   "id": "9a5a70f1",
   "metadata": {
    "ExecuteTime": {
     "end_time": "2023-04-07T22:27:27.049615Z",
     "start_time": "2023-04-07T22:27:26.796683Z"
    }
   },
   "outputs": [],
   "source": [
    "with open('../data/01_raw_southest_asia_tweets.pickle', 'rb') as f:\n",
    "    southest_asia = pickle.load(f)\n",
    "f.close()"
   ]
  },
  {
   "cell_type": "code",
   "execution_count": 5,
   "id": "51c6e43b",
   "metadata": {
    "ExecuteTime": {
     "end_time": "2023-04-07T22:27:27.233817Z",
     "start_time": "2023-04-07T22:27:27.224838Z"
    }
   },
   "outputs": [],
   "source": [
    "MAIN_COLS = ['url', 'date', 'rawContent', 'renderedContent', 'id', 'replyCount', 'retweetCount',\n",
    "             'likeCount', 'quoteCount', 'lang', 'retweetedTweet', 'quotedTweet', 'inReplyToTweetId',\n",
    "             'inReplyToUser', 'mentionedUsers', 'hashtags', 'cashtags', \n",
    "            'viewCount', 'vibe', 'content']\n",
    "USER_COLS = ['username', 'id', 'rawDescription', 'renderedDescription', 'created', 'followersCount', 'statusesCount', \n",
    "            'favouritesCount', 'listedCount']\n",
    "CARD_COLS = ['title', 'description', 'siteUser']\n",
    "\n",
    "SITE_USER_COLS = ['id', 'displayname', 'rawDescription', 'renderedDescription', 'verified', 'created', \n",
    " 'followersCount', 'friendsCount', 'statusesCount', 'favouritesCount', 'listedCount', 'mediaCount', 'location']"
   ]
  },
  {
   "cell_type": "code",
   "execution_count": 6,
   "id": "f5a922e3",
   "metadata": {
    "ExecuteTime": {
     "end_time": "2023-04-07T22:27:27.797466Z",
     "start_time": "2023-04-07T22:27:27.791191Z"
    }
   },
   "outputs": [],
   "source": [
    "ALL_COLS = MAIN_COLS + ['user_' + col for col in USER_COLS] + \\\n",
    "['card_' + col for col in CARD_COLS] + ['card_siteUser_' + col for col in SITE_USER_COLS] +  ['place__type',\n",
    " 'place_id',\n",
    " 'place_fullName',\n",
    " 'place_name',\n",
    " 'place_type',\n",
    " 'place_country',\n",
    " 'place_countryCode']"
   ]
  },
  {
   "cell_type": "code",
   "execution_count": 9,
   "id": "2f346221",
   "metadata": {
    "ExecuteTime": {
     "end_time": "2023-04-07T22:29:40.673325Z",
     "start_time": "2023-04-07T22:29:40.012087Z"
    }
   },
   "outputs": [],
   "source": [
    "# convert data to pandas df\n",
    "lat_amr_df = pd.json_normalize(lat_amrica)\n",
    "sth_asia_df = pd.json_normalize(southest_asia)"
   ]
  },
  {
   "cell_type": "code",
   "execution_count": 10,
   "id": "77007283",
   "metadata": {
    "ExecuteTime": {
     "end_time": "2023-04-07T22:29:41.779093Z",
     "start_time": "2023-04-07T22:29:41.770171Z"
    }
   },
   "outputs": [
    {
     "name": "stderr",
     "output_type": "stream",
     "text": [
      "/tmp/ipykernel_5373/3979054058.py:1: FutureWarning: The default value of regex will change from True to False in a future version. In addition, single character regular expressions will *not* be treated as literal strings when regex=True.\n",
      "  lat_amr_df.columns = lat_amr_df.columns.str.replace(\".\", \"_\")\n",
      "/tmp/ipykernel_5373/3979054058.py:2: FutureWarning: The default value of regex will change from True to False in a future version. In addition, single character regular expressions will *not* be treated as literal strings when regex=True.\n",
      "  sth_asia_df.columns = sth_asia_df.columns.str.replace(\".\", \"_\")\n"
     ]
    }
   ],
   "source": [
    "lat_amr_df.columns = lat_amr_df.columns.str.replace(\".\", \"_\")\n",
    "sth_asia_df.columns = sth_asia_df.columns.str.replace(\".\", \"_\")"
   ]
  },
  {
   "cell_type": "code",
   "execution_count": 11,
   "id": "dd12c2dd",
   "metadata": {
    "ExecuteTime": {
     "end_time": "2023-04-07T22:30:12.207904Z",
     "start_time": "2023-04-07T22:30:12.180066Z"
    }
   },
   "outputs": [],
   "source": [
    "lat_amr_df = lat_amr_df[ALL_COLS]\n",
    "sth_asia_df = sth_asia_df[ALL_COLS]"
   ]
  },
  {
   "cell_type": "code",
   "execution_count": 12,
   "id": "5c3bc654",
   "metadata": {
    "ExecuteTime": {
     "end_time": "2023-04-07T22:32:07.567669Z",
     "start_time": "2023-04-07T22:32:07.188376Z"
    }
   },
   "outputs": [],
   "source": [
    "# save to csv\n",
    "lat_amr_df.to_csv(\"../data/02_latim_amr_tweets.csv\", index=False)\n",
    "sth_asia_df.to_csv('../data/02_sth_asia_tweets.csv', index=False)"
   ]
  }
 ],
 "metadata": {
  "kernelspec": {
   "display_name": "py3.8.13",
   "language": "python",
   "name": "py3.8"
  },
  "language_info": {
   "codemirror_mode": {
    "name": "ipython",
    "version": 3
   },
   "file_extension": ".py",
   "mimetype": "text/x-python",
   "name": "python",
   "nbconvert_exporter": "python",
   "pygments_lexer": "ipython3",
   "version": "3.8.13"
  }
 },
 "nbformat": 4,
 "nbformat_minor": 5
}
