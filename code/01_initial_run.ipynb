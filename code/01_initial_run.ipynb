{
 "cells": [
  {
   "cell_type": "code",
   "execution_count": 1,
   "id": "c208ff0a",
   "metadata": {
    "ExecuteTime": {
     "end_time": "2023-04-07T00:06:56.420750Z",
     "start_time": "2023-04-07T00:06:55.754881Z"
    }
   },
   "outputs": [],
   "source": [
    "import csv\n",
    "import snscrape.modules.twitter as sntwitter\n",
    "import itertools\n",
    "import pandas as pd\n",
    "import json"
   ]
  },
  {
   "cell_type": "code",
   "execution_count": 55,
   "id": "700c3edc",
   "metadata": {
    "ExecuteTime": {
     "end_time": "2023-04-07T01:10:35.643035Z",
     "start_time": "2023-04-07T01:10:35.638409Z"
    }
   },
   "outputs": [],
   "source": [
    "pd.options.display.max_columns = None"
   ]
  },
  {
   "cell_type": "code",
   "execution_count": 2,
   "id": "71e33b77",
   "metadata": {
    "ExecuteTime": {
     "end_time": "2023-04-07T00:06:56.427376Z",
     "start_time": "2023-04-07T00:06:56.424497Z"
    }
   },
   "outputs": [],
   "source": [
    "OUTPUT_FILE = \"../data/results.csv\""
   ]
  },
  {
   "cell_type": "code",
   "execution_count": 3,
   "id": "38f300c7",
   "metadata": {
    "ExecuteTime": {
     "end_time": "2023-04-07T00:06:56.879007Z",
     "start_time": "2023-04-07T00:06:56.868440Z"
    }
   },
   "outputs": [],
   "source": [
    "def save_tweets(query, n_tweets):\n",
    "    \"\"\"\n",
    "    Finds the latest tweets according to a query and saves them in a csv file\n",
    "    :param query: the query to look for\n",
    "    :param n_tweets: number of tweets to scrape\n",
    "    \"\"\"\n",
    "    with open(OUTPUT_FILE, 'w', encoding='utf-8', newline='') as file:\n",
    "        writer = csv.writer(file)\n",
    "        writer.writerow(['id', 'date', 'username', 'content', 'url'])\n",
    "        \n",
    "        tweets_gen = sntwitter.TwitterSearchScraper(query).get_items()\n",
    "        top_tweets = itertools.islice(tweets_gen, n_tweets)\n",
    "        \n",
    "        for tweet in top_tweets:\n",
    "            writer.writerow([tweet.id, tweet.date, tweet.username, tweet.content, tweet.url])\n",
    "        \n",
    "        print('Done!')"
   ]
  },
  {
   "cell_type": "code",
   "execution_count": 4,
   "id": "c188551d",
   "metadata": {
    "ExecuteTime": {
     "end_time": "2023-04-07T00:06:57.794021Z",
     "start_time": "2023-04-07T00:06:57.790065Z"
    }
   },
   "outputs": [],
   "source": [
    "query = \"#foreignaid\""
   ]
  },
  {
   "cell_type": "code",
   "execution_count": 5,
   "id": "0d679058",
   "metadata": {
    "ExecuteTime": {
     "end_time": "2023-04-07T00:07:01.243875Z",
     "start_time": "2023-04-07T00:06:59.724498Z"
    }
   },
   "outputs": [
    {
     "name": "stdout",
     "output_type": "stream",
     "text": [
      "Done!\n"
     ]
    },
    {
     "name": "stderr",
     "output_type": "stream",
     "text": [
      "/tmp/ipykernel_7125/2365005399.py:15: DeprecatedFeatureWarning: username is deprecated, use user.username instead\n",
      "  writer.writerow([tweet.id, tweet.date, tweet.username, tweet.content, tweet.url])\n",
      "/tmp/ipykernel_7125/2365005399.py:15: DeprecatedFeatureWarning: content is deprecated, use rawContent instead\n",
      "  writer.writerow([tweet.id, tweet.date, tweet.username, tweet.content, tweet.url])\n"
     ]
    }
   ],
   "source": [
    "save_tweets(query=query, n_tweets=10)"
   ]
  },
  {
   "cell_type": "code",
   "execution_count": 6,
   "id": "76dd82d3",
   "metadata": {
    "ExecuteTime": {
     "end_time": "2023-04-07T00:07:02.439208Z",
     "start_time": "2023-04-07T00:07:02.433415Z"
    }
   },
   "outputs": [],
   "source": [
    "tweets_gen = sntwitter.TwitterSearchScraper(query).get_items()"
   ]
  },
  {
   "cell_type": "markdown",
   "id": "66c82ad8",
   "metadata": {},
   "source": [
    "## Advanced"
   ]
  },
  {
   "cell_type": "markdown",
   "id": "21d9214a",
   "metadata": {},
   "source": [
    "Advanced Search reference: https://github.com/igorbrigadir/twitter-advanced-search"
   ]
  },
  {
   "cell_type": "code",
   "execution_count": 19,
   "id": "6a52ba2e",
   "metadata": {
    "ExecuteTime": {
     "end_time": "2023-04-07T00:19:57.090691Z",
     "start_time": "2023-04-07T00:19:57.083159Z"
    }
   },
   "outputs": [],
   "source": [
    "def advancedTweetSearch(query, loc, start, end, lang=\"en\"):\n",
    "    TWEET_STOR = []\n",
    "    LOC_STOR = []\n",
    "    \n",
    "    scraped_tweets = sntwitter.TwitterSearchScraper(f'{query} geocode:\"{loc}\"since:{start} until:{end}').get_items()\n",
    "    \n",
    "    sliced_scraped_tweets = itertools.islice(scraped_tweets, 10000)\n",
    "    \n",
    "    \n",
    "    for tweet in sliced_scraped_tweets:\n",
    "        try:\n",
    "            LOC_STOR.append(json.loads(tweet.json())['place']['country'])\n",
    "            TWEET_STOR.append(json.loads(tweet.json()))\n",
    "        except TypeError:\n",
    "            continue\n",
    "        \n",
    "    return TWEET_STOR, LOC_STOR"
   ]
  },
  {
   "cell_type": "code",
   "execution_count": 20,
   "id": "f71e15ba",
   "metadata": {
    "ExecuteTime": {
     "end_time": "2023-04-07T00:19:57.465628Z",
     "start_time": "2023-04-07T00:19:57.458678Z"
    }
   },
   "outputs": [],
   "source": [
    "query = \"economic development OR #economicdevelopment\"\n",
    "start = '2019-01-01'\n",
    "end = '2023-01-01'\n",
    "loc = \"-3.337954,119.882813, 4000km\""
   ]
  },
  {
   "cell_type": "code",
   "execution_count": 21,
   "id": "0e8d456b",
   "metadata": {
    "ExecuteTime": {
     "end_time": "2023-04-07T00:26:14.336918Z",
     "start_time": "2023-04-07T00:19:59.139872Z"
    }
   },
   "outputs": [
    {
     "name": "stdout",
     "output_type": "stream",
     "text": [
      "CPU times: user 12.1 s, sys: 143 ms, total: 12.2 s\n",
      "Wall time: 6min 15s\n"
     ]
    }
   ],
   "source": [
    "%time southest_asia, location_details = advancedTweetSearch(query=query, start=start, end=end, loc=loc)"
   ]
  },
  {
   "cell_type": "code",
   "execution_count": 22,
   "id": "6c854bb8",
   "metadata": {
    "ExecuteTime": {
     "end_time": "2023-04-07T00:26:33.524769Z",
     "start_time": "2023-04-07T00:26:33.507973Z"
    }
   },
   "outputs": [
    {
     "data": {
      "text/plain": [
       "India                         3066\n",
       "Pakistan                       453\n",
       "Australia                      311\n",
       "Bangladesh                     113\n",
       "Maldives                        98\n",
       "Sri Lanka                       72\n",
       "Nepal                           61\n",
       "People's Republic of China      47\n",
       "Indonesia                       27\n",
       "Taiwan                          20\n",
       "East Timor                      10\n",
       "Papua New Guinea                 7\n",
       "Bhutan                           6\n",
       "Northern Mariana Islands         3\n",
       "Guam                             3\n",
       "Japan                            3\n",
       "                                 2\n",
       "United States                    1\n",
       "dtype: int64"
      ]
     },
     "execution_count": 22,
     "metadata": {},
     "output_type": "execute_result"
    }
   ],
   "source": [
    "pd.Series(location_details).value_counts()"
   ]
  },
  {
   "cell_type": "code",
   "execution_count": 23,
   "id": "561a1b54",
   "metadata": {
    "ExecuteTime": {
     "end_time": "2023-04-07T00:26:42.092794Z",
     "start_time": "2023-04-07T00:26:42.081158Z"
    }
   },
   "outputs": [
    {
     "data": {
      "text/plain": [
       "{'ca',\n",
       " 'da',\n",
       " 'en',\n",
       " 'es',\n",
       " 'et',\n",
       " 'fr',\n",
       " 'hi',\n",
       " 'ht',\n",
       " 'in',\n",
       " 'mr',\n",
       " 'nl',\n",
       " 'pt',\n",
       " 'ro',\n",
       " 'tl',\n",
       " 'und',\n",
       " 'zh'}"
      ]
     },
     "execution_count": 23,
     "metadata": {},
     "output_type": "execute_result"
    }
   ],
   "source": [
    "set([(tweet['lang']) for tweet in southest_asia])"
   ]
  },
  {
   "cell_type": "code",
   "execution_count": 24,
   "id": "bdaefd2d",
   "metadata": {
    "ExecuteTime": {
     "end_time": "2023-04-07T00:26:46.041000Z",
     "start_time": "2023-04-07T00:26:46.036077Z"
    }
   },
   "outputs": [],
   "source": [
    "# brazil\n",
    "\n",
    "loc = \"-8.581021,-51.328125, 5000km\""
   ]
  },
  {
   "cell_type": "code",
   "execution_count": 25,
   "id": "93660726",
   "metadata": {
    "ExecuteTime": {
     "end_time": "2023-04-07T00:34:31.570433Z",
     "start_time": "2023-04-07T00:26:46.875578Z"
    }
   },
   "outputs": [
    {
     "name": "stdout",
     "output_type": "stream",
     "text": [
      "CPU times: user 16.2 s, sys: 192 ms, total: 16.3 s\n",
      "Wall time: 7min 44s\n"
     ]
    }
   ],
   "source": [
    "%time lat_amrica, location_details = advancedTweetSearch(query=query, start=start, end=end, loc=loc)"
   ]
  },
  {
   "cell_type": "code",
   "execution_count": 26,
   "id": "256c1272",
   "metadata": {
    "ExecuteTime": {
     "end_time": "2023-04-07T00:35:53.535300Z",
     "start_time": "2023-04-07T00:35:53.522262Z"
    }
   },
   "outputs": [
    {
     "data": {
      "text/plain": [
       "United States    4302\n",
       "Ghana             495\n",
       "Mexico             58\n",
       "Sierra Leone       46\n",
       "Morocco            31\n",
       "Gambia             25\n",
       "Fiji               24\n",
       "Spain              19\n",
       "Ivory Coast        19\n",
       "Senegal            18\n",
       "Brazil             16\n",
       "Liberia            15\n",
       "Bahamas            10\n",
       "Guatemala           7\n",
       "Bermuda             6\n",
       "Cape Verde          4\n",
       "Guinea              3\n",
       "Mali                2\n",
       "Portugal            1\n",
       "Gibraltar           1\n",
       "Burkina Faso        1\n",
       "Ecuador             1\n",
       "Argentina           1\n",
       "Mauritania          1\n",
       "Guinea Bissau       1\n",
       "dtype: int64"
      ]
     },
     "execution_count": 26,
     "metadata": {},
     "output_type": "execute_result"
    }
   ],
   "source": [
    "pd.Series(location_details).value_counts()"
   ]
  },
  {
   "cell_type": "code",
   "execution_count": 28,
   "id": "61336559",
   "metadata": {
    "ExecuteTime": {
     "end_time": "2023-04-07T00:36:09.706035Z",
     "start_time": "2023-04-07T00:36:09.687783Z"
    }
   },
   "outputs": [
    {
     "data": {
      "text/plain": [
       "{'ca', 'en', 'es', 'fr', 'pt', 'ro'}"
      ]
     },
     "execution_count": 28,
     "metadata": {},
     "output_type": "execute_result"
    }
   ],
   "source": [
    "set([tweet['lang'] for tweet in lat_amrica])"
   ]
  },
  {
   "cell_type": "markdown",
   "id": "2895a9ff",
   "metadata": {},
   "source": [
    "# store tweets"
   ]
  },
  {
   "cell_type": "code",
   "execution_count": 34,
   "id": "1b0dd252",
   "metadata": {
    "ExecuteTime": {
     "end_time": "2023-04-07T00:39:28.732420Z",
     "start_time": "2023-04-07T00:39:28.724833Z"
    }
   },
   "outputs": [
    {
     "data": {
      "text/plain": [
       "dict_keys(['_type', 'url', 'date', 'rawContent', 'renderedContent', 'id', 'user', 'replyCount', 'retweetCount', 'likeCount', 'quoteCount', 'conversationId', 'lang', 'source', 'sourceUrl', 'sourceLabel', 'links', 'media', 'retweetedTweet', 'quotedTweet', 'inReplyToTweetId', 'inReplyToUser', 'mentionedUsers', 'coordinates', 'place', 'hashtags', 'cashtags', 'card', 'viewCount', 'vibe', 'content', 'outlinks', 'outlinksss', 'tcooutlinks', 'tcooutlinksss', 'username'])"
      ]
     },
     "execution_count": 34,
     "metadata": {},
     "output_type": "execute_result"
    }
   ],
   "source": [
    "lat_amrica[0].keys()"
   ]
  },
  {
   "cell_type": "code",
   "execution_count": 51,
   "id": "eec5b8d7",
   "metadata": {
    "ExecuteTime": {
     "end_time": "2023-04-07T01:08:31.973745Z",
     "start_time": "2023-04-07T01:08:31.964965Z"
    }
   },
   "outputs": [],
   "source": [
    "MAIN_COLS = ['url', 'date', 'rawContent', 'renderedContent', 'id', 'user', 'replyCount', 'retweetCount',\n",
    "             'likeCount', 'quoteCount', 'lang', 'retweetedTweet', 'quotedTweet', 'inReplyToTweetId',\n",
    "             'inReplyToUser', 'mentionedUsers', 'coordinates', 'place', 'hashtags', 'cashtags', \n",
    "            'viewCount', 'vibe', 'content', 'card', 'siteUser']\n",
    "USER_COLS = ['username', 'id', 'rawDescription', 'renderedDescription', 'created', 'followersCount', 'statusesCount', \n",
    "            'favouritesCount', 'listerCount']\n",
    "CARD_COLS = ['title', 'description', 'siteUser']\n",
    "\n",
    "SITE_USER_COLS = ['id', 'displayname', 'rawDescription', 'renderedDescription', 'verified', 'created', \n",
    " 'followersCount', 'friendsCount', 'statusesCount', 'favouritesCount', 'listedCount', 'mediaCount', 'location']"
   ]
  },
  {
   "cell_type": "code",
   "execution_count": 59,
   "id": "637e8e8d",
   "metadata": {
    "ExecuteTime": {
     "end_time": "2023-04-07T01:13:31.866941Z",
     "start_time": "2023-04-07T01:13:31.349925Z"
    }
   },
   "outputs": [],
   "source": [
    "lat_amr_df = pd.json_normalize(lat_amrica)"
   ]
  },
  {
   "cell_type": "code",
   "execution_count": 62,
   "id": "f4b511c5",
   "metadata": {
    "ExecuteTime": {
     "end_time": "2023-04-07T01:14:07.836422Z",
     "start_time": "2023-04-07T01:14:07.829295Z"
    }
   },
   "outputs": [
    {
     "name": "stderr",
     "output_type": "stream",
     "text": [
      "/tmp/ipykernel_7125/2142218018.py:1: FutureWarning: The default value of regex will change from True to False in a future version. In addition, single character regular expressions will *not* be treated as literal strings when regex=True.\n",
      "  lat_amr_df.columns = lat_amr_df.columns.str.replace('.', '_')\n"
     ]
    }
   ],
   "source": [
    "lat_amr_df.columns = lat_amr_df.columns.str.replace('.', '_')"
   ]
  },
  {
   "cell_type": "code",
   "execution_count": 70,
   "id": "133a5504",
   "metadata": {
    "ExecuteTime": {
     "end_time": "2023-04-07T01:16:22.499730Z",
     "start_time": "2023-04-07T01:16:22.492111Z"
    }
   },
   "outputs": [
    {
     "data": {
      "text/plain": [
       "['user_listerCount']"
      ]
     },
     "execution_count": 70,
     "metadata": {},
     "output_type": "execute_result"
    }
   ],
   "source": [
    "['user_' + col for col in USER_COLS if 'user_' + col not in lat_amr_df.columns]"
   ]
  },
  {
   "cell_type": "code",
   "execution_count": 69,
   "id": "003ce649",
   "metadata": {
    "ExecuteTime": {
     "end_time": "2023-04-07T01:16:05.068066Z",
     "start_time": "2023-04-07T01:16:05.054498Z"
    }
   },
   "outputs": [
    {
     "data": {
      "text/plain": [
       "[]"
      ]
     },
     "execution_count": 69,
     "metadata": {},
     "output_type": "execute_result"
    }
   ],
   "source": [
    "['card_' + col for col in CARD_COLS if 'card_' + col not in lat_amr_df.columns]"
   ]
  },
  {
   "cell_type": "code",
   "execution_count": 75,
   "id": "bed5fb02",
   "metadata": {
    "ExecuteTime": {
     "end_time": "2023-04-07T01:17:59.270047Z",
     "start_time": "2023-04-07T01:17:59.259291Z"
    }
   },
   "outputs": [
    {
     "data": {
      "text/plain": [
       "['card_siteUser__id',\n",
       " 'card_siteUser__displayname',\n",
       " 'card_siteUser__rawDescription',\n",
       " 'card_siteUser__renderedDescription',\n",
       " 'card_siteUser__verified',\n",
       " 'card_siteUser__created',\n",
       " 'card_siteUser__followersCount',\n",
       " 'card_siteUser__friendsCount',\n",
       " 'card_siteUser__statusesCount',\n",
       " 'card_siteUser__favouritesCount',\n",
       " 'card_siteUser__listedCount',\n",
       " 'card_siteUser__mediaCount',\n",
       " 'card_siteUser__location']"
      ]
     },
     "execution_count": 75,
     "metadata": {},
     "output_type": "execute_result"
    }
   ],
   "source": [
    "['card_siteUser__' + col for col in SITE_USER_COLS if 'card_siteUser__' + col not in lat_amr_df.columns]"
   ]
  }
 ],
 "metadata": {
  "kernelspec": {
   "display_name": "py3.8.13",
   "language": "python",
   "name": "py3.8"
  },
  "language_info": {
   "codemirror_mode": {
    "name": "ipython",
    "version": 3
   },
   "file_extension": ".py",
   "mimetype": "text/x-python",
   "name": "python",
   "nbconvert_exporter": "python",
   "pygments_lexer": "ipython3",
   "version": "3.8.13"
  }
 },
 "nbformat": 4,
 "nbformat_minor": 5
}
