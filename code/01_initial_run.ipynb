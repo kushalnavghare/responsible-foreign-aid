{
 "cells": [
  {
   "cell_type": "code",
   "execution_count": 1,
   "id": "c208ff0a",
   "metadata": {
    "ExecuteTime": {
     "end_time": "2023-04-04T23:32:28.823138Z",
     "start_time": "2023-04-04T23:32:28.022648Z"
    }
   },
   "outputs": [],
   "source": [
    "import csv\n",
    "import snscrape.modules.twitter as sntwitter\n",
    "import itertools\n",
    "import pandas as pd\n",
    "import json"
   ]
  },
  {
   "cell_type": "code",
   "execution_count": 2,
   "id": "71e33b77",
   "metadata": {
    "ExecuteTime": {
     "end_time": "2023-04-04T23:32:28.930978Z",
     "start_time": "2023-04-04T23:32:28.925405Z"
    }
   },
   "outputs": [],
   "source": [
    "OUTPUT_FILE = \"../data/results.csv\""
   ]
  },
  {
   "cell_type": "code",
   "execution_count": 3,
   "id": "38f300c7",
   "metadata": {
    "ExecuteTime": {
     "end_time": "2023-04-04T23:32:30.918264Z",
     "start_time": "2023-04-04T23:32:30.908652Z"
    }
   },
   "outputs": [],
   "source": [
    "def save_tweets(query, n_tweets):\n",
    "    \"\"\"\n",
    "    Finds the latest tweets according to a query and saves them in a csv file\n",
    "    :param query: the query to look for\n",
    "    :param n_tweets: number of tweets to scrape\n",
    "    \"\"\"\n",
    "    with open(OUTPUT_FILE, 'w', encoding='utf-8', newline='') as file:\n",
    "        writer = csv.writer(file)\n",
    "        writer.writerow(['id', 'date', 'username', 'content', 'url'])\n",
    "        \n",
    "        tweets_gen = sntwitter.TwitterSearchScraper(query).get_items()\n",
    "        top_tweets = itertools.islice(tweets_gen, n_tweets)\n",
    "        \n",
    "        for tweet in top_tweets:\n",
    "            writer.writerow([tweet.id, tweet.date, tweet.username, tweet.content, tweet.url])\n",
    "        \n",
    "        print('Done!')"
   ]
  },
  {
   "cell_type": "code",
   "execution_count": 4,
   "id": "c188551d",
   "metadata": {
    "ExecuteTime": {
     "end_time": "2023-04-04T23:32:32.650038Z",
     "start_time": "2023-04-04T23:32:32.645082Z"
    }
   },
   "outputs": [],
   "source": [
    "query = \"#foreignaid\""
   ]
  },
  {
   "cell_type": "code",
   "execution_count": 5,
   "id": "0d679058",
   "metadata": {
    "ExecuteTime": {
     "end_time": "2023-04-04T23:32:34.883728Z",
     "start_time": "2023-04-04T23:32:32.885471Z"
    }
   },
   "outputs": [
    {
     "name": "stdout",
     "output_type": "stream",
     "text": [
      "Done!\n"
     ]
    },
    {
     "name": "stderr",
     "output_type": "stream",
     "text": [
      "/tmp/ipykernel_12490/2365005399.py:15: DeprecatedFeatureWarning: username is deprecated, use user.username instead\n",
      "  writer.writerow([tweet.id, tweet.date, tweet.username, tweet.content, tweet.url])\n",
      "/tmp/ipykernel_12490/2365005399.py:15: DeprecatedFeatureWarning: content is deprecated, use rawContent instead\n",
      "  writer.writerow([tweet.id, tweet.date, tweet.username, tweet.content, tweet.url])\n"
     ]
    }
   ],
   "source": [
    "save_tweets(query=query, n_tweets=10)"
   ]
  },
  {
   "cell_type": "code",
   "execution_count": 6,
   "id": "76dd82d3",
   "metadata": {
    "ExecuteTime": {
     "end_time": "2023-04-04T23:32:36.634467Z",
     "start_time": "2023-04-04T23:32:36.628216Z"
    }
   },
   "outputs": [],
   "source": [
    "tweets_gen = sntwitter.TwitterSearchScraper(query).get_items()"
   ]
  },
  {
   "cell_type": "markdown",
   "id": "66c82ad8",
   "metadata": {},
   "source": [
    "## Advanced"
   ]
  },
  {
   "cell_type": "markdown",
   "id": "21d9214a",
   "metadata": {},
   "source": [
    "Advanced Search reference: https://github.com/igorbrigadir/twitter-advanced-search"
   ]
  },
  {
   "cell_type": "code",
   "execution_count": 55,
   "id": "6a52ba2e",
   "metadata": {
    "ExecuteTime": {
     "end_time": "2023-04-05T00:45:40.010775Z",
     "start_time": "2023-04-05T00:45:40.004351Z"
    }
   },
   "outputs": [],
   "source": [
    "def advancedTweetSearch(query, loc, start, end, lang=\"en\"):\n",
    "    TWEET_STOR = []\n",
    "    LOC_STOR = []\n",
    "    \n",
    "    scraped_tweets = sntwitter.TwitterSearchScraper(f'{query} geocode:\"{loc}\"since:{start} until:{end}').get_items()\n",
    "    \n",
    "    sliced_scraped_tweets = itertools.islice(scraped_tweets, 5000)\n",
    "    \n",
    "    \n",
    "    for tweet in sliced_scraped_tweets:\n",
    "        try:\n",
    "            LOC_STOR.append(json.loads(tweet.json())['place']['country'])\n",
    "            TWEET_STOR.append(json.loads(tweet.json()))\n",
    "        except TypeError:\n",
    "            continue\n",
    "        \n",
    "    return TWEET_STOR, LOC_STOR"
   ]
  },
  {
   "cell_type": "code",
   "execution_count": 56,
   "id": "f71e15ba",
   "metadata": {
    "ExecuteTime": {
     "end_time": "2023-04-05T00:45:40.322185Z",
     "start_time": "2023-04-05T00:45:40.312686Z"
    }
   },
   "outputs": [],
   "source": [
    "query = \"economic development OR #economicdevelopment\"\n",
    "start = '2019-01-01'\n",
    "end = '2023-01-01'\n",
    "loc = \"-3.337954,119.882813, 3500km\""
   ]
  },
  {
   "cell_type": "code",
   "execution_count": 57,
   "id": "0e8d456b",
   "metadata": {
    "ExecuteTime": {
     "end_time": "2023-04-05T00:51:14.016682Z",
     "start_time": "2023-04-05T00:45:40.929936Z"
    }
   },
   "outputs": [
    {
     "name": "stdout",
     "output_type": "stream",
     "text": [
      "CPU times: user 9.01 s, sys: 145 ms, total: 9.15 s\n",
      "Wall time: 5min 33s\n"
     ]
    }
   ],
   "source": [
    "%time tweet_stor, location_details = advancedTweetSearch(query=query, start=start, end=end, loc=loc)"
   ]
  },
  {
   "cell_type": "code",
   "execution_count": 58,
   "id": "6c854bb8",
   "metadata": {
    "ExecuteTime": {
     "end_time": "2023-04-05T00:56:45.415921Z",
     "start_time": "2023-04-05T00:56:45.405656Z"
    }
   },
   "outputs": [
    {
     "data": {
      "text/plain": [
       "India                         2915\n",
       "Australia                      178\n",
       "Bangladesh                     113\n",
       "Maldives                        98\n",
       "Sri Lanka                       72\n",
       "Pakistan                        67\n",
       "Nepal                           61\n",
       "Indonesia                       27\n",
       "Taiwan                          19\n",
       "People's Republic of China      14\n",
       "East Timor                      10\n",
       "Papua New Guinea                 7\n",
       "Bhutan                           6\n",
       "Northern Mariana Islands         3\n",
       "Guam                             3\n",
       "United States                    1\n",
       "                                 1\n",
       "dtype: int64"
      ]
     },
     "execution_count": 58,
     "metadata": {},
     "output_type": "execute_result"
    }
   ],
   "source": [
    "pd.Series(location_details).value_counts()"
   ]
  },
  {
   "cell_type": "code",
   "execution_count": 59,
   "id": "561a1b54",
   "metadata": {
    "ExecuteTime": {
     "end_time": "2023-04-05T00:57:08.093923Z",
     "start_time": "2023-04-05T00:57:08.081075Z"
    }
   },
   "outputs": [
    {
     "data": {
      "text/plain": [
       "{'ca',\n",
       " 'da',\n",
       " 'en',\n",
       " 'es',\n",
       " 'et',\n",
       " 'fr',\n",
       " 'hi',\n",
       " 'ht',\n",
       " 'in',\n",
       " 'mr',\n",
       " 'pt',\n",
       " 'ro',\n",
       " 'tl',\n",
       " 'und',\n",
       " 'zh'}"
      ]
     },
     "execution_count": 59,
     "metadata": {},
     "output_type": "execute_result"
    }
   ],
   "source": [
    "set([(tweet['lang']) for tweet in tweet_stor])"
   ]
  },
  {
   "cell_type": "code",
   "execution_count": 60,
   "id": "bdaefd2d",
   "metadata": {
    "ExecuteTime": {
     "end_time": "2023-04-05T00:57:15.808162Z",
     "start_time": "2023-04-05T00:57:15.802479Z"
    }
   },
   "outputs": [],
   "source": [
    "# brazil\n",
    "\n",
    "loc = \"-8.581021,-51.328125, 4500km\""
   ]
  },
  {
   "cell_type": "code",
   "execution_count": 61,
   "id": "93660726",
   "metadata": {
    "ExecuteTime": {
     "end_time": "2023-04-05T01:02:16.688770Z",
     "start_time": "2023-04-05T00:57:17.177672Z"
    }
   },
   "outputs": [
    {
     "name": "stdout",
     "output_type": "stream",
     "text": [
      "CPU times: user 7.82 s, sys: 104 ms, total: 7.92 s\n",
      "Wall time: 4min 59s\n"
     ]
    }
   ],
   "source": [
    "%time tweet_stor, location_details = advancedTweetSearch(query=query, start=start, end=end, loc=loc)"
   ]
  },
  {
   "cell_type": "code",
   "execution_count": 62,
   "id": "256c1272",
   "metadata": {
    "ExecuteTime": {
     "end_time": "2023-04-05T01:02:16.703727Z",
     "start_time": "2023-04-05T01:02:16.693182Z"
    }
   },
   "outputs": [
    {
     "data": {
      "text/plain": [
       "United States    2215\n",
       "Ghana             496\n",
       "Mexico             58\n",
       "Sierra Leone       46\n",
       "Gambia             25\n",
       "Fiji               24\n",
       "Morocco            20\n",
       "Ivory Coast        19\n",
       "Senegal            18\n",
       "Brazil             16\n",
       "Liberia            15\n",
       "Bahamas            10\n",
       "Guatemala           7\n",
       "Cape Verde          4\n",
       "Guinea              3\n",
       "Spain               2\n",
       "Mali                2\n",
       "Burkina Faso        1\n",
       "Ecuador             1\n",
       "Mauritania          1\n",
       "Guinea Bissau       1\n",
       "dtype: int64"
      ]
     },
     "execution_count": 62,
     "metadata": {},
     "output_type": "execute_result"
    }
   ],
   "source": [
    "pd.Series(location_details).value_counts()"
   ]
  },
  {
   "cell_type": "code",
   "execution_count": 64,
   "id": "61336559",
   "metadata": {
    "ExecuteTime": {
     "end_time": "2023-04-05T01:06:46.584455Z",
     "start_time": "2023-04-05T01:06:46.571553Z"
    }
   },
   "outputs": [
    {
     "data": {
      "text/plain": [
       "{'ca', 'en', 'es', 'fr', 'pt', 'ro'}"
      ]
     },
     "execution_count": 64,
     "metadata": {},
     "output_type": "execute_result"
    }
   ],
   "source": [
    "set([tweet['lang'] for tweet in tweet_stor])"
   ]
  },
  {
   "cell_type": "code",
   "execution_count": 65,
   "id": "c1eeda27",
   "metadata": {
    "ExecuteTime": {
     "end_time": "2023-04-05T01:10:38.534302Z",
     "start_time": "2023-04-05T01:10:38.524877Z"
    }
   },
   "outputs": [
    {
     "data": {
      "text/plain": [
       "{'_type': 'snscrape.modules.twitter.Tweet',\n",
       " 'url': 'https://twitter.com/blackraiden76T/status/1608253696089161729',\n",
       " 'date': '2022-12-29T00:08:55+00:00',\n",
       " 'rawContent': 'Sustainable community development must be a national priority at some point— the burden on the individual — the family — The community—The economic burden on states over the next several years will be too great to bear—Public health policy—upholding our civil liberties. #life',\n",
       " 'renderedContent': 'Sustainable community development must be a national priority at some point— the burden on the individual — the family — The community—The economic burden on states over the next several years will be too great to bear—Public health policy—upholding our civil liberties. #life',\n",
       " 'id': 1608253696089161729,\n",
       " 'user': {'_type': 'snscrape.modules.twitter.User',\n",
       "  'username': 'blackraiden76T',\n",
       "  'id': 177520363,\n",
       "  'displayname': 'Dr. Richard Broussard',\n",
       "  'rawDescription': 'Humanitarian. Music for Total Wellness/ Health Equity. PharmD..B.S Natural Science.. Lyricist/Student of thought.. Youth Human Rights Educator.. Yah’s creation',\n",
       "  'renderedDescription': 'Humanitarian. Music for Total Wellness/ Health Equity. PharmD..B.S Natural Science.. Lyricist/Student of thought.. Youth Human Rights Educator.. Yah’s creation',\n",
       "  'descriptionLinks': None,\n",
       "  'verified': False,\n",
       "  'created': '2010-08-12T10:23:48+00:00',\n",
       "  'followersCount': 1414,\n",
       "  'friendsCount': 2833,\n",
       "  'statusesCount': 20689,\n",
       "  'favouritesCount': 12116,\n",
       "  'listedCount': 30,\n",
       "  'mediaCount': 3156,\n",
       "  'location': 'Chi town/ N. Memphis/Dallas',\n",
       "  'protected': False,\n",
       "  'link': {'_type': 'snscrape.modules.twitter.TextLink',\n",
       "   'text': 'drrichardbroussard.com',\n",
       "   'url': 'https://www.drrichardbroussard.com/',\n",
       "   'tcourl': 'https://t.co/nNUcJiPimu',\n",
       "   'indices': [0, 23]},\n",
       "  'profileImageUrl': 'https://pbs.twimg.com/profile_images/1236710802830299136/DZnvEq6P_normal.jpg',\n",
       "  'profileBannerUrl': 'https://pbs.twimg.com/profile_banners/177520363/1586338696',\n",
       "  'label': None,\n",
       "  'description': 'Humanitarian. Music for Total Wellness/ Health Equity. PharmD..B.S Natural Science.. Lyricist/Student of thought.. Youth Human Rights Educator.. Yah’s creation',\n",
       "  'descriptionUrls': None,\n",
       "  'linkTcourl': 'https://t.co/nNUcJiPimu',\n",
       "  'linkUrl': 'https://www.drrichardbroussard.com/',\n",
       "  'url': 'https://twitter.com/blackraiden76T'},\n",
       " 'replyCount': 0,\n",
       " 'retweetCount': 1,\n",
       " 'likeCount': 0,\n",
       " 'quoteCount': 0,\n",
       " 'conversationId': 1608253696089161729,\n",
       " 'lang': 'en',\n",
       " 'source': '<a href=\"http://twitter.com/download/iphone\" rel=\"nofollow\">Twitter for iPhone</a>',\n",
       " 'sourceUrl': 'http://twitter.com/download/iphone',\n",
       " 'sourceLabel': 'Twitter for iPhone',\n",
       " 'links': None,\n",
       " 'media': None,\n",
       " 'retweetedTweet': None,\n",
       " 'quotedTweet': None,\n",
       " 'inReplyToTweetId': None,\n",
       " 'inReplyToUser': None,\n",
       " 'mentionedUsers': None,\n",
       " 'coordinates': {'_type': 'snscrape.modules.twitter.Coordinates',\n",
       "  'longitude': -96.977527,\n",
       "  'latitude': 32.620678},\n",
       " 'place': {'_type': 'snscrape.modules.twitter.Place',\n",
       "  'id': '18810aa5b43e76c7',\n",
       "  'fullName': 'Dallas, TX',\n",
       "  'name': 'Dallas',\n",
       "  'type': 'city',\n",
       "  'country': 'United States',\n",
       "  'countryCode': 'US'},\n",
       " 'hashtags': ['life'],\n",
       " 'cashtags': None,\n",
       " 'card': None,\n",
       " 'viewCount': 43,\n",
       " 'vibe': None,\n",
       " 'content': 'Sustainable community development must be a national priority at some point— the burden on the individual — the family — The community—The economic burden on states over the next several years will be too great to bear—Public health policy—upholding our civil liberties. #life',\n",
       " 'outlinks': [],\n",
       " 'outlinksss': '',\n",
       " 'tcooutlinks': [],\n",
       " 'tcooutlinksss': '',\n",
       " 'username': 'blackraiden76T'}"
      ]
     },
     "execution_count": 65,
     "metadata": {},
     "output_type": "execute_result"
    }
   ],
   "source": [
    "tweet_stor[0]"
   ]
  },
  {
   "cell_type": "code",
   "execution_count": 69,
   "id": "1e4ba50b",
   "metadata": {
    "ExecuteTime": {
     "end_time": "2023-04-05T01:18:17.981649Z",
     "start_time": "2023-04-05T01:18:17.975473Z"
    }
   },
   "outputs": [],
   "source": [
    "non_eng = [non_eng_tweet for non_eng_tweet in tweet_stor if non_eng_tweet['lang'] != 'en']"
   ]
  },
  {
   "cell_type": "code",
   "execution_count": 70,
   "id": "605ad60f",
   "metadata": {
    "ExecuteTime": {
     "end_time": "2023-04-05T01:18:22.705584Z",
     "start_time": "2023-04-05T01:18:22.693022Z"
    }
   },
   "outputs": [
    {
     "data": {
      "text/plain": [
       "{'_type': 'snscrape.modules.twitter.Tweet',\n",
       " 'url': 'https://twitter.com/toddahunter/status/1597618235892981762',\n",
       " 'date': '2022-11-29T15:47:24+00:00',\n",
       " 'rawContent': 'Veterans Roundtable (@ Del Mar Center For Economic Development) https://t.co/xjkx3st0dH',\n",
       " 'renderedContent': 'Veterans Roundtable (@ Del Mar Center For Economic Development) swarmapp.com/c/cpEzItpgiKA',\n",
       " 'id': 1597618235892981762,\n",
       " 'user': {'_type': 'snscrape.modules.twitter.User',\n",
       "  'username': 'toddahunter',\n",
       "  'id': 133165344,\n",
       "  'displayname': 'Todd Hunter',\n",
       "  'rawDescription': 'Personal Twitter feed of Representative Todd Hunter - Dist. 32. Follow @Dist32StateRep for updates from Team Todd.',\n",
       "  'renderedDescription': 'Personal Twitter feed of Representative Todd Hunter - Dist. 32. Follow @Dist32StateRep for updates from Team Todd.',\n",
       "  'descriptionLinks': None,\n",
       "  'verified': False,\n",
       "  'created': '2010-04-15T05:02:51+00:00',\n",
       "  'followersCount': 8056,\n",
       "  'friendsCount': 1476,\n",
       "  'statusesCount': 17243,\n",
       "  'favouritesCount': 114999,\n",
       "  'listedCount': 234,\n",
       "  'mediaCount': 2343,\n",
       "  'location': '',\n",
       "  'protected': False,\n",
       "  'link': {'_type': 'snscrape.modules.twitter.TextLink',\n",
       "   'text': 'electtoddhunter.com',\n",
       "   'url': 'http://electtoddhunter.com',\n",
       "   'tcourl': 'https://t.co/VNc2dhMQYi',\n",
       "   'indices': [0, 23]},\n",
       "  'profileImageUrl': 'https://pbs.twimg.com/profile_images/1471055411130384386/WixFK39U_normal.jpg',\n",
       "  'profileBannerUrl': 'https://pbs.twimg.com/profile_banners/133165344/1640467421',\n",
       "  'label': None,\n",
       "  'description': 'Personal Twitter feed of Representative Todd Hunter - Dist. 32. Follow @Dist32StateRep for updates from Team Todd.',\n",
       "  'descriptionUrls': None,\n",
       "  'linkTcourl': 'https://t.co/VNc2dhMQYi',\n",
       "  'linkUrl': 'http://electtoddhunter.com',\n",
       "  'url': 'https://twitter.com/toddahunter'},\n",
       " 'replyCount': 0,\n",
       " 'retweetCount': 0,\n",
       " 'likeCount': 1,\n",
       " 'quoteCount': 0,\n",
       " 'conversationId': 1597618235892981762,\n",
       " 'lang': 'ca',\n",
       " 'source': '<a href=\"http://foursquare.com\" rel=\"nofollow\">Foursquare</a>',\n",
       " 'sourceUrl': 'http://foursquare.com',\n",
       " 'sourceLabel': 'Foursquare',\n",
       " 'links': [{'_type': 'snscrape.modules.twitter.TextLink',\n",
       "   'text': 'swarmapp.com/c/cpEzItpgiKA',\n",
       "   'url': 'https://www.swarmapp.com/c/cpEzItpgiKA',\n",
       "   'tcourl': 'https://t.co/xjkx3st0dH',\n",
       "   'indices': [64, 87]}],\n",
       " 'media': None,\n",
       " 'retweetedTweet': None,\n",
       " 'quotedTweet': None,\n",
       " 'inReplyToTweetId': None,\n",
       " 'inReplyToUser': None,\n",
       " 'mentionedUsers': None,\n",
       " 'coordinates': {'_type': 'snscrape.modules.twitter.Coordinates',\n",
       "  'longitude': -97.39779291,\n",
       "  'latitude': 27.75136396},\n",
       " 'place': {'_type': 'snscrape.modules.twitter.Place',\n",
       "  'id': 'a3d770a00f15bcb1',\n",
       "  'fullName': 'Corpus Christi, TX',\n",
       "  'name': 'Corpus Christi',\n",
       "  'type': 'city',\n",
       "  'country': 'United States',\n",
       "  'countryCode': 'US'},\n",
       " 'hashtags': None,\n",
       " 'cashtags': None,\n",
       " 'card': {'_type': 'snscrape.modules.twitter.SummaryCard',\n",
       "  'title': 'Todd | Del Mar Center For Economic Development',\n",
       "  'url': 'https://www.swarmapp.com/c/cpEzItpgiKA',\n",
       "  'description': 'Get out. Explore. Download Swarm and live your life more checked in.',\n",
       "  'thumbnailUrl': 'https://pbs.twimg.com/card_img/1638866559379677189/AK337rRb?format=png&name=orig',\n",
       "  'siteUser': {'_type': 'snscrape.modules.twitter.User',\n",
       "   'username': 'SwarmApp',\n",
       "   'id': 240676055,\n",
       "   'displayname': 'Foursquare Swarm',\n",
       "   'rawDescription': 'The best way to keep track of the places you go. You’ll never ask “what was the name of that place?” again. Need help? Visit https://t.co/7h8sBltsXF',\n",
       "   'renderedDescription': 'The best way to keep track of the places you go. You’ll never ask “what was the name of that place?” again. Need help? Visit 4sq.com/AppSupport',\n",
       "   'descriptionLinks': [{'_type': 'snscrape.modules.twitter.TextLink',\n",
       "     'text': '4sq.com/AppSupport',\n",
       "     'url': 'http://4sq.com/AppSupport',\n",
       "     'tcourl': 'https://t.co/7h8sBltsXF',\n",
       "     'indices': [125, 148]}],\n",
       "   'verified': True,\n",
       "   'created': '2011-01-20T13:42:44+00:00',\n",
       "   'followersCount': 54700,\n",
       "   'friendsCount': 269,\n",
       "   'statusesCount': 7519,\n",
       "   'favouritesCount': 14058,\n",
       "   'listedCount': 710,\n",
       "   'mediaCount': 576,\n",
       "   'location': '',\n",
       "   'protected': False,\n",
       "   'link': {'_type': 'snscrape.modules.twitter.TextLink',\n",
       "    'text': 'swarmapp.com',\n",
       "    'url': 'http://www.swarmapp.com',\n",
       "    'tcourl': 'https://t.co/VQHpjdc909',\n",
       "    'indices': [0, 23]},\n",
       "   'profileImageUrl': 'https://pbs.twimg.com/profile_images/894932435112083456/K-DBpeoD_normal.jpg',\n",
       "   'profileBannerUrl': 'https://pbs.twimg.com/profile_banners/240676055/1488044717',\n",
       "   'label': None,\n",
       "   'description': 'The best way to keep track of the places you go. You’ll never ask “what was the name of that place?” again. Need help? Visit 4sq.com/AppSupport',\n",
       "   'descriptionUrls': [{'_type': 'snscrape.modules.twitter.TextLink',\n",
       "     'text': '4sq.com/AppSupport',\n",
       "     'url': 'http://4sq.com/AppSupport',\n",
       "     'tcourl': 'https://t.co/7h8sBltsXF',\n",
       "     'indices': [125, 148]}],\n",
       "   'linkTcourl': 'https://t.co/VQHpjdc909',\n",
       "   'linkUrl': 'http://www.swarmapp.com',\n",
       "   'url': 'https://twitter.com/SwarmApp'},\n",
       "  'creatorUser': None},\n",
       " 'viewCount': None,\n",
       " 'vibe': None,\n",
       " 'content': 'Veterans Roundtable (@ Del Mar Center For Economic Development) https://t.co/xjkx3st0dH',\n",
       " 'outlinks': ['https://www.swarmapp.com/c/cpEzItpgiKA'],\n",
       " 'outlinksss': 'https://www.swarmapp.com/c/cpEzItpgiKA',\n",
       " 'tcooutlinks': ['https://t.co/xjkx3st0dH'],\n",
       " 'tcooutlinksss': 'https://t.co/xjkx3st0dH',\n",
       " 'username': 'toddahunter'}"
      ]
     },
     "execution_count": 70,
     "metadata": {},
     "output_type": "execute_result"
    }
   ],
   "source": [
    "non_eng[0]"
   ]
  },
  {
   "cell_type": "markdown",
   "id": "1ce490be",
   "metadata": {},
   "source": [
    "# Language translation"
   ]
  },
  {
   "cell_type": "code",
   "execution_count": null,
   "id": "eb0919a6",
   "metadata": {},
   "outputs": [],
   "source": []
  }
 ],
 "metadata": {
  "kernelspec": {
   "display_name": "py3.8.13",
   "language": "python",
   "name": "py3.8"
  },
  "language_info": {
   "codemirror_mode": {
    "name": "ipython",
    "version": 3
   },
   "file_extension": ".py",
   "mimetype": "text/x-python",
   "name": "python",
   "nbconvert_exporter": "python",
   "pygments_lexer": "ipython3",
   "version": "3.8.13"
  }
 },
 "nbformat": 4,
 "nbformat_minor": 5
}
